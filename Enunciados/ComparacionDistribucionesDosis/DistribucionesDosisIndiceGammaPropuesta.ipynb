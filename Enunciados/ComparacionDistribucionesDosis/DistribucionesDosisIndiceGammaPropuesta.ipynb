{
  "cells": [
    {
      "cell_type": "markdown",
      "id": "b1477926-8901-48cc-94dd-35befef987c6",
      "metadata": {
        "id": "b1477926-8901-48cc-94dd-35befef987c6"
      },
      "source": [
        "![Logo UCM](https://raw.githubusercontent.com/csarux/TutorialesFisicaRadioterapia/main/Colab/logo_UCM.png)\n",
        "# Medida de distribuciones espaciales de dosis. Índice gamma\n",
        "-------\n",
        "\n",
        "**Objetivos**:\n",
        "- Calibrar un sistema dosimétrico basado en películas radiocrómicas.\n",
        "- Emplear medidas tomadas con películas radiocrómicas para evaluar una distribución espacial de dosis mediante análisis del índice gamma.\n",
        "\n",
        "### Forma de trabajo\n",
        "\n",
        "En este cuaderno se utilizan herramientas de análisis presentadas en el Tutorial [Uso de Google Colab en Física de la Radioterapia](https://colab.research.google.com/github/csarux/TutorialesFisicaRadioterapia/blob/main/Colab/TutorialColabF%C3%ADsicaRadioterapia.ipynb).\n",
        "Como ayuda adicional se dan indicaciones en forma de comentarios que indican el código que debe introducirse.\n",
        "\n",
        "Por ejemplo, una celda de código con el comentario\n",
        "\n",
        "```\n",
        "#- Montar gDrive -#\n",
        "```\n",
        "\n",
        "deberá ser editada para incluir el código que realiza la acción pedida una vez que haya sido ejecutada. La celda anterior quedará entonces\n",
        "\n",
        "```\n",
        "#- Montar gDrive -#\n",
        "# - Importar el módulo para acceder a Drive\n",
        "from google.colab import drive\n",
        "# - Montar el disco\n",
        "drive.mount('/content/gdrive')\n",
        "```\n",
        "\n",
        "### Configuración del entorno de trabajo\n",
        "\n",
        "Antes de comenzar a desarrollar los objetivos de este cuaderno necesitamos configurar Colab para poder acceder a nuestros datos e instalar un módulo no presente por defecto en Colab.\n",
        "\n",
        "Mediante las siguientes celdas se tiene que:\n",
        "\n",
        "- Montar el disco gDrive\n",
        "- Instalar el módulo `pymedphys`\n",
        "- Cambiar el directorio de trabajo"
      ]
    },
    {
      "cell_type": "code",
      "execution_count": 1,
      "metadata": {
        "vscode": {
          "languageId": "python"
        },
        "id": "LXiy8AKRyYYs",
        "colab": {
          "base_uri": "https://localhost:8080/"
        },
        "outputId": "4ebf5ae2-593a-4d69-a764-cf5efcf0ee12"
      },
      "outputs": [
        {
          "output_type": "stream",
          "name": "stdout",
          "text": [
            "Mounted at /content/gdrive\n"
          ]
        }
      ],
      "source": [
        "# - Importar el módulo para acceder a Drive\n",
        "from google.colab import drive\n",
        "# - Montar el disco\n",
        "drive.mount('/content/gdrive')"
      ],
      "id": "LXiy8AKRyYYs"
    },
    {
      "cell_type": "code",
      "execution_count": 2,
      "id": "bed0b7b6-239e-421a-91db-a7068fad8e96",
      "metadata": {
        "colab": {
          "base_uri": "https://localhost:8080/"
        },
        "id": "bed0b7b6-239e-421a-91db-a7068fad8e96",
        "outputId": "328e72fc-98d4-45e4-e106-01a8f61b7b3f"
      },
      "outputs": [
        {
          "output_type": "stream",
          "name": "stdout",
          "text": [
            "Collecting pymedphys\n",
            "  Downloading pymedphys-0.41.0-py3-none-any.whl.metadata (14 kB)\n",
            "Requirement already satisfied: setuptools in /usr/local/lib/python3.11/dist-packages (from pymedphys) (75.1.0)\n",
            "Collecting tomlkit (from pymedphys)\n",
            "  Downloading tomlkit-0.13.2-py3-none-any.whl.metadata (2.7 kB)\n",
            "Requirement already satisfied: typing-extensions in /usr/local/lib/python3.11/dist-packages (from pymedphys) (4.12.2)\n",
            "Downloading pymedphys-0.41.0-py3-none-any.whl (7.5 MB)\n",
            "\u001b[2K   \u001b[90m━━━━━━━━━━━━━━━━━━━━━━━━━━━━━━━━━━━━━━━━\u001b[0m \u001b[32m7.5/7.5 MB\u001b[0m \u001b[31m22.5 MB/s\u001b[0m eta \u001b[36m0:00:00\u001b[0m\n",
            "\u001b[?25hDownloading tomlkit-0.13.2-py3-none-any.whl (37 kB)\n",
            "Installing collected packages: tomlkit, pymedphys\n",
            "Successfully installed pymedphys-0.41.0 tomlkit-0.13.2\n"
          ]
        }
      ],
      "source": [
        "#- Instalar pymedphys -#\n",
        "%pip install pymedphys"
      ]
    },
    {
      "cell_type": "markdown",
      "id": "10cb28ce-9c52-49bd-8ad8-1155bb8be53c",
      "metadata": {
        "id": "10cb28ce-9c52-49bd-8ad8-1155bb8be53c"
      },
      "source": [
        "Cambiar al directorio de trabajo"
      ]
    },
    {
      "cell_type": "code",
      "execution_count": 3,
      "id": "19eba47d-83a0-489e-8fd9-77fd8edf736f",
      "metadata": {
        "tags": [],
        "colab": {
          "base_uri": "https://localhost:8080/"
        },
        "id": "19eba47d-83a0-489e-8fd9-77fd8edf736f",
        "outputId": "231e604f-803a-4943-ed47-5e7372137d9f"
      },
      "outputs": [
        {
          "output_type": "stream",
          "name": "stdout",
          "text": [
            "/content/gdrive/MyDrive\n"
          ]
        }
      ],
      "source": [
        "#- Seleccionar la carpeta de gDrive en la que queramos hacer el análisis y cambiar el directorio de trabajo a ella.\n",
        "%cd '/content/gdrive/MyDrive'"
      ]
    },
    {
      "cell_type": "markdown",
      "id": "bd7d7070-2fa2-4417-b58f-c8e69e388509",
      "metadata": {
        "id": "bd7d7070-2fa2-4417-b58f-c8e69e388509"
      },
      "source": [
        "## Primera parte: Calibración del sistema de medida\n",
        "\n",
        "El sistema dosimétrico se compone de la película como elemento sensible y el escáner con el que se digitaliza la película como elemento lector.\n",
        "\n",
        "El escáner digitaliza en tres canales de color: R, G, B.\n",
        "\n",
        "En cada canal de color la medida está compuesta entonces por el par de valores {señal digital $S$, dosis $D$}.\n",
        "\n",
        "Durante la calibración conocemos la dosis $D$ y medimos la señal digital $S$ para establecer la relación entre ambas.\n",
        "\n",
        "Durante la medida empleamos la relación anterior para obtener la dosis $D$ a partir de la señal digital $S$ medida.\n",
        "\n",
        "La calibración se hace más robusta si se restan las contribuciones de los elementos de la película que no son alterados por la radiación.\n",
        "\n",
        "Para obtener la señal neta producida por el elemento sensible de la película es conveniente pensar en términos de la densidad óptica $d$.\n",
        "\n",
        "Con el escáner configurado para leer señales digitales codificadas en 16 btis la densidad óptica $d$ se define\n",
        "\n",
        "\\begin{equation}\n",
        "    d=\\log_{10}\\frac{2^{16}}{S}\n",
        "\\end{equation}\n",
        "\n",
        "La densidad óptica es una propiedad aditiva. La densidad debida al elemento sensible se puede obtener restando de la densidad óptica total la contribución de la densidad óptica de una película no irradiada\n",
        "\n",
        "\\begin{equation}\n",
        "    d=\\log_{10}\\frac{2^{16}}{S} - \\log_{10}\\frac{2^{16}}{S_{\\text{Bkg}}} = \\log_{10}\\frac{S_{\\text{Bkg}}}{S}\n",
        "\\end{equation}\n",
        "\n",
        "Para calibrar el sistema vamos a emplear dos aproximaciones diferentes:\n",
        "\n",
        "### Modelo basado en el crecimiento de dos fases del polímero\n",
        "\n",
        "\\begin{equation}\n",
        "    d = \\phi\\cdot (1-e^{-k_r\\, D}) + \\psi\\cdot (1-e^{-k_b\\, D})\n",
        "\\end{equation}\n",
        "\n",
        "Según este modelo la densidad óptica $d$ es una combinación lineal de funciones de saturación $1-e^{-k\\, D}$ caracterizadas por un parámetro $k$ propio de cada fase del polímero y del canal del color en el que se determine. Los parámetros $k$ pueden ser conocidos de antemano.\n",
        "\n",
        "Las fases del polímero se nombran fase roja y fase azul por la banda en la que absorben fundamentalmente la luz. Para los escáneres de sobremesa comúnmente empleados se acepta que para la fase azul el parámetro $k_b$ tiene el mismo valor en los tres canales de color del escáner y que para la fase roja $k_r$ tiene el mismo valor en los canales verde y azul $k_{r, GB}$ y un valor diferente en el canal rojo $k_{r, R}$.\n",
        "\n",
        "$k_{r,R}$ |$k_{r,GB}$ |$k_b$\n",
        "--:|--:|--:\n",
        "0.060|0.039|0.400\n",
        "\n",
        "Parametros $k$ característicos del escáner utilizado en este cuaderno.\n",
        "\n",
        "### Modelo racional\n",
        "\n",
        "\\begin{equation}\n",
        "    d = \\log_{10}\\frac{c + D}{a + b\\,D}\n",
        "\\end{equation}\n",
        "\n",
        "que de forma equivalente se puede formular\n",
        "\n",
        "\\begin{equation}\n",
        "    10^{-d} = \\frac{a + b\\,D}{c + D}\n",
        "\\end{equation}\n",
        "\n",
        "### Ajuste de los modelos\n",
        "\n",
        "Los pasos para determinar la calibración del sistema son:\n",
        "\n",
        "- Leer los datos de calibración. El archivo Excel 'DatosCalibracion.xlsx' contiene datos de dosis en Gy y las señales digitales medidas en los tres canales de color {R, G, B}\n",
        "- Calcular la densidad óptica debida al elemento sensible\n",
        "- Modelar la curva de respuesta\n",
        "- Ajustar los parámetros de la curva de respuesta\n",
        "\n",
        "Comenzamos por descargar a nuestra carpeta de trabajo los datos de calibración"
      ]
    },
    {
      "cell_type": "code",
      "execution_count": 4,
      "id": "c0700fb5-2e49-47a1-86a1-05cff217d9aa",
      "metadata": {
        "colab": {
          "base_uri": "https://localhost:8080/"
        },
        "id": "c0700fb5-2e49-47a1-86a1-05cff217d9aa",
        "outputId": "99a3da84-3bf0-4960-9e82-109f79e09d0d"
      },
      "outputs": [
        {
          "output_type": "stream",
          "name": "stdout",
          "text": [
            "--2025-03-09 21:32:34--  https://raw.githubusercontent.com/csarux/TutorialesFisicaRadioterapia/main/Enunciados/ComparacionDistribucionesDosis/DatosCalibracion.xlsx\n",
            "Resolving raw.githubusercontent.com (raw.githubusercontent.com)... 185.199.108.133, 185.199.109.133, 185.199.110.133, ...\n",
            "Connecting to raw.githubusercontent.com (raw.githubusercontent.com)|185.199.108.133|:443... connected.\n",
            "HTTP request sent, awaiting response... 200 OK\n",
            "Length: 8456 (8.3K) [application/octet-stream]\n",
            "Saving to: ‘DatosCalibracion.xlsx’\n",
            "\n",
            "\rDatosCalibracion.xl   0%[                    ]       0  --.-KB/s               \rDatosCalibracion.xl 100%[===================>]   8.26K  --.-KB/s    in 0.005s  \n",
            "\n",
            "2025-03-09 21:32:35 (1.65 MB/s) - ‘DatosCalibracion.xlsx’ saved [8456/8456]\n",
            "\n"
          ]
        }
      ],
      "source": [
        "# - Esta celda no se tiene que modificar. - #\n",
        "# Importar el módulo pandas\n",
        "import pandas as pd\n",
        "# Importar el módulo numpy\n",
        "import numpy as np\n",
        "# Descargar los datos de calibración\n",
        "!wget https://raw.githubusercontent.com/csarux/TutorialesFisicaRadioterapia/main/Enunciados/ComparacionDistribucionesDosis/DatosCalibracion.xlsx\n",
        "# Leer los datos de calibración en un pandas DataFrame\n",
        "caldf = pd.read_excel('DatosCalibracion.xlsx')"
      ]
    },
    {
      "cell_type": "markdown",
      "id": "022107d5-1183-4163-9763-53b19770eaec",
      "metadata": {
        "id": "022107d5-1183-4163-9763-53b19770eaec"
      },
      "source": [
        "Calculamos las densidades ópticas netas, las debidas solo al material sensible. La siguiente celda muestra cómo hacerlo para el canal rojo\n",
        "y cómo actualizar el DataFrame coun una nueva columna identificada por `dR`"
      ]
    },
    {
      "cell_type": "code",
      "execution_count": 5,
      "id": "e24d999a-e9ac-49ed-93f6-c3e3e9dce5d9",
      "metadata": {
        "tags": [],
        "id": "e24d999a-e9ac-49ed-93f6-c3e3e9dce5d9"
      },
      "outputs": [],
      "source": [
        "# - Esta celda no se tiene que modificar - #\n",
        "caldf['dR'] = np.log10(caldf.R[0]/caldf.R)"
      ]
    },
    {
      "cell_type": "code",
      "execution_count": 6,
      "id": "d202d945-3658-46b5-bd13-41c31b51ddec",
      "metadata": {
        "tags": [],
        "id": "d202d945-3658-46b5-bd13-41c31b51ddec"
      },
      "outputs": [],
      "source": [
        "# - Escribir código similar al anterior para calculas las densidades ópticas de los canales verde 'dG' y azul 'dB' - #\n",
        "caldf['dB'] = np.log10(caldf.B[0]/caldf.B)\n",
        "caldf['dG'] = np.log10(caldf.G[0]/caldf.G)"
      ]
    },
    {
      "cell_type": "markdown",
      "id": "0f5c7549-4448-4172-938e-f1e6dc5dd584",
      "metadata": {
        "id": "0f5c7549-4448-4172-938e-f1e6dc5dd584"
      },
      "source": [
        "Definir los modelos de las curvas de respuesta"
      ]
    },
    {
      "cell_type": "code",
      "execution_count": 7,
      "id": "229e27ff-1124-4c58-afae-b760273d6626",
      "metadata": {
        "tags": [],
        "id": "229e27ff-1124-4c58-afae-b760273d6626"
      },
      "outputs": [],
      "source": [
        "# - Esta celda no se tiene que modificar. Ejecutarla para definir las funciones que describen los modelos - #\n",
        "\n",
        "# Modelo basado en el crecimiento de dos fases del polímero.\n",
        "## Definimos las funciones de saturación de cada fase y canal\n",
        "### Fase roja, canal rojo\n",
        "def satRrf(D):\n",
        "    return (1 - np.exp(-0.06*D))\n",
        "\n",
        "### Fase roja, canales verde y azul\n",
        "def satGBrf(D):\n",
        "    return (1 - np.exp(-0.039*D))\n",
        "\n",
        "### Fase azuk, misma función de saturación para los tres canales.\n",
        "def satbf(D):\n",
        "    return (1 - np.exp(-.4*D))\n",
        "\n",
        "## Definimos la función multiparametrica lineal para el canal rojo.\n",
        "def R2phf(D, phi, psi):\n",
        "    return phi * satRrf(D) + psi * satbf(D)\n",
        "\n",
        "## Definimos la función multiparamétrica lineal para los canales verde y azul. Obtendremos un conjunto de parámetros {phi, psi} diferente para cada canal.\n",
        "def GB2phf(D, phi, psi):\n",
        "    return phi * satGBrf(D) + psi * satbf(D)\n",
        "\n",
        "# Modelo racional: mismo modelo para los tres canales, diferentes parámetros para cada canal.\n",
        "def ratf(D, a, b, c):\n",
        "    return np.log10((a+b*D)/(c+D))"
      ]
    },
    {
      "cell_type": "markdown",
      "id": "6b1cad93-cdf9-4f23-9d74-7279c6adc1ba",
      "metadata": {
        "id": "6b1cad93-cdf9-4f23-9d74-7279c6adc1ba"
      },
      "source": [
        "#### 1.1 Modelo de crecimiento de dos fases\n",
        "Realizar el ajuste de regresión lineal múltiple"
      ]
    },
    {
      "cell_type": "code",
      "execution_count": 8,
      "id": "81543ecd-7d80-483d-add4-767762eb0466",
      "metadata": {
        "id": "81543ecd-7d80-483d-add4-767762eb0466"
      },
      "outputs": [],
      "source": [
        "# - Importar la función LinearRegression del módulo sklearn.linear_model - #\n",
        "from sklearn.linear_model import LinearRegression"
      ]
    },
    {
      "cell_type": "markdown",
      "id": "5174a8e9-4b88-44c9-ab20-6e3ba9336624",
      "metadata": {
        "id": "5174a8e9-4b88-44c9-ab20-6e3ba9336624"
      },
      "source": [
        "Para el canal rojo"
      ]
    },
    {
      "cell_type": "code",
      "execution_count": 9,
      "id": "7405133a-8b75-4771-8494-b59d9aae58e9",
      "metadata": {
        "tags": [],
        "colab": {
          "base_uri": "https://localhost:8080/"
        },
        "id": "7405133a-8b75-4771-8494-b59d9aae58e9",
        "outputId": "1730c98f-70fe-4b8a-fcbb-f5ffa804371f"
      },
      "outputs": [
        {
          "output_type": "stream",
          "name": "stdout",
          "text": [
            "Coeficientes lineales de ajuste y coeficiente de determinación (score):\n",
            "Canal  rojo. phi: 0.402, psi: 0.213, fondo: 0.009, score: 0.998\n"
          ]
        }
      ],
      "source": [
        "# - Esta celda no se tiene que modificar sirve como modelo del código. Ejecutarla para realizar el ajuste para el canal rojo - #\n",
        "# Definir el vector de valores dependientes y = densidad óptica neta\n",
        "y = caldf.dR.values\n",
        "\n",
        "# Definir la matriz de valores independientes X. Cada columna de X corresponde a un vector que resulta de aplicar la función correspondiente al canal de color y a una fase - #\n",
        "D = caldf.D\n",
        "X_R = np.array([satRrf(D),satbf(D)]).transpose()\n",
        "\n",
        "# - Definir un objeto regressor a partir de la función LiearRegression: ajustar los datos (X, y), obtener los coeficientes de ajuste incluida la ordenada en el origen y las estadísitcas de ajuste\n",
        "R_regressor = LinearRegression()\n",
        "\n",
        "R_regressor.fit(X_R, y)\n",
        "\n",
        "R_phi = R_regressor.coef_[0]\n",
        "R_psi = R_regressor.coef_[1]\n",
        "dR0 = R_regressor.intercept_\n",
        "R_score = R_regressor.score(X_R, y)\n",
        "\n",
        "# - Mostrar los parámetros de ajuste y el coeficiente de determinación.\n",
        "print('Coeficientes lineales de ajuste y coeficiente de determinación (score):')\n",
        "print(r'Canal  rojo. phi: %.3f, psi: %.3f, fondo: %.3f, score: %.3f'%(R_phi, R_psi, dR0, R_score))\n"
      ]
    },
    {
      "cell_type": "markdown",
      "id": "8c3cfe64-fa3e-4138-98dc-cbe1d0cfb2c0",
      "metadata": {
        "id": "8c3cfe64-fa3e-4138-98dc-cbe1d0cfb2c0"
      },
      "source": [
        "Repetir para el canal verde"
      ]
    },
    {
      "cell_type": "code",
      "execution_count": 10,
      "id": "f5d48030-3903-4c75-aaca-3b1f72494607",
      "metadata": {
        "colab": {
          "base_uri": "https://localhost:8080/"
        },
        "id": "f5d48030-3903-4c75-aaca-3b1f72494607",
        "outputId": "ced47010-fff0-4c75-f4fd-b51bdd0a2237"
      },
      "outputs": [
        {
          "output_type": "stream",
          "name": "stdout",
          "text": [
            "Coeficientes lineales de ajuste y coeficiente de determinación (score):\n",
            "Canal  verde. phi: 0.716, psi: 0.137, fondo: 0.006, score: 0.999\n"
          ]
        }
      ],
      "source": [
        "# - Definir el vector de valores dependientes y = densidad óptica neta - #\n",
        "y_G = caldf.dG.values\n",
        "# - Definir la matriz de valores independientes X. Cada columna de X corresponde a un vector que resulta de aplicar la función correspondiente al canal de color y a una fase - #\n",
        "D = caldf.D\n",
        "X_G = np.array([satGBrf(D),satbf(D)]).transpose()\n",
        "# - Definir un objeto regressor a partir de la función LiearRegression: ajustar los datos (X, y), obtener los coeficientes de ajuste incluida la ordenada en el origen y las estadísitcas de ajuste\n",
        "G_regressor = LinearRegression()\n",
        "G_regressor.fit(X_G, y_G)\n",
        "\n",
        "G_phi = G_regressor.coef_[0]\n",
        "G_psi = G_regressor.coef_[1]\n",
        "dG0 = G_regressor.intercept_\n",
        "G_score = G_regressor.score(X_G, y_G)\n",
        "# - Mostrar los parámetros de ajuste y el coeficiente de determinación.\n",
        "print('Coeficientes lineales de ajuste y coeficiente de determinación (score):')\n",
        "print(r'Canal  verde. phi: %.3f, psi: %.3f, fondo: %.3f, score: %.3f'%(G_phi, G_psi, dG0, G_score))\n"
      ]
    },
    {
      "cell_type": "markdown",
      "id": "83faa28e-a54d-4637-977c-47fb1efcae76",
      "metadata": {
        "id": "83faa28e-a54d-4637-977c-47fb1efcae76"
      },
      "source": [
        "Repetir para el canal azul"
      ]
    },
    {
      "cell_type": "code",
      "execution_count": 11,
      "id": "fbb0e04b-945b-4869-a10b-6935714d8b76",
      "metadata": {
        "colab": {
          "base_uri": "https://localhost:8080/"
        },
        "id": "fbb0e04b-945b-4869-a10b-6935714d8b76",
        "outputId": "53fd3b56-fde0-46d6-8a2b-c6b92fb00676"
      },
      "outputs": [
        {
          "output_type": "stream",
          "name": "stdout",
          "text": [
            "Coeficientes lineales de ajuste y coeficiente de determinación (score):\n",
            "Canal  azul. phi: 0.462, psi: 0.069, fondo: 0.006, score: 0.997\n"
          ]
        }
      ],
      "source": [
        "# - Definir el vector de valores dependientes y = densidad óptica neta - #\n",
        "y_B = caldf.dB.values\n",
        "# - Definir la matriz de valores independientes X. Cada columna de X corresponde a un vector que resulta de aplicar la función correspondiente al canal de color y a una fase - #\n",
        "D = caldf.D\n",
        "X_B = np.array([satGBrf(D),satbf(D)]).transpose()\n",
        "# - Definir un objeto regressor a partir de la función LiearRegression: ajustar los datos (X, y), obtener los coeficientes de ajuste incluida la ordenada en el origen y las estadísitcas de ajuste\n",
        "B_regressor = LinearRegression()\n",
        "B_regressor.fit(X_B, y_B)\n",
        "\n",
        "B_phi = B_regressor.coef_[0]\n",
        "B_psi = B_regressor.coef_[1]\n",
        "dB0 = B_regressor.intercept_\n",
        "B_score = B_regressor.score(X_B, y_B)\n",
        "# - Mostrar los parámetros de ajuste y el coeficiente de determinación.\n",
        "print('Coeficientes lineales de ajuste y coeficiente de determinación (score):')\n",
        "print(r'Canal  azul. phi: %.3f, psi: %.3f, fondo: %.3f, score: %.3f'%(B_phi, B_psi, dB0, B_score))"
      ]
    },
    {
      "cell_type": "code",
      "execution_count": 12,
      "id": "d5d7ba36-1a0b-4666-96eb-567fab768687",
      "metadata": {
        "tags": [],
        "id": "d5d7ba36-1a0b-4666-96eb-567fab768687"
      },
      "outputs": [],
      "source": [
        "# - Importar el módulo de gráficos matplotlib.pyplot con el alias plt - #\n",
        "import matplotlib.pyplot as plt"
      ]
    },
    {
      "cell_type": "code",
      "execution_count": 13,
      "id": "ef55a56c-8a58-4e3e-9ee7-63f1477fbe03",
      "metadata": {
        "colab": {
          "base_uri": "https://localhost:8080/",
          "height": 449
        },
        "id": "ef55a56c-8a58-4e3e-9ee7-63f1477fbe03",
        "outputId": "bf873667-c21c-45b4-c594-c67505e52e24"
      },
      "outputs": [
        {
          "output_type": "display_data",
          "data": {
            "text/plain": [
              "<Figure size 640x480 with 1 Axes>"
            ],
            "image/png": "[encoded data removed]"
          },
          "metadata": {}
        }
      ],
      "source": [
        "# - Hacer una gráfica de la densidad óptica en función de la dosis en la que se muestren las medidas y su ajuste - #\n",
        "D = caldf.D\n",
        "Dg = np.arange(0,10.1,0.1) # vector de Dosis con mayor resolución para el gráfico\n",
        "fig, ax = plt.subplots()\n",
        "ax.scatter(D, caldf.dR, color='r', marker='o', label='R')\n",
        "ax.plot(Dg, R2phf(Dg, *R_regressor.coef_) + R_regressor.intercept_, 'r-', label='R 2 fases')\n",
        "# - Añadir el código para el canal verde - #\n",
        "ax.scatter(D, caldf.dG, color='g', marker='o', label='G')\n",
        "ax.plot(Dg, GB2phf(Dg, *G_regressor.coef_) + G_regressor.intercept_, 'g-', label='G 2 fases')\n",
        "# - Añadir el código apra canal azul - #\n",
        "ax.scatter(D, caldf.dB, color='b', marker='o', label='B')\n",
        "ax.plot(Dg, GB2phf(Dg, *B_regressor.coef_) + B_regressor.intercept_, 'b-', label='B 2 fases')\n",
        "ax.set_xlabel('Dosis [Gy]')\n",
        "ax.set_ylabel('Densidad Óptica')\n",
        "ax.legend(loc='upper left')\n",
        "plt.show()"
      ]
    },
    {
      "cell_type": "markdown",
      "id": "34c1219e-78cb-42ce-894b-9750da953768",
      "metadata": {
        "id": "34c1219e-78cb-42ce-894b-9750da953768"
      },
      "source": [
        "Comentar por qué parece necesario tener que incluir un término de ordenda en el origen a pesar de que se han corregido las medidas por la señal digital obtenida para dosis igual a cero."
      ]
    },
    {
      "cell_type": "markdown",
      "source": [
        "Hay que incluirla porque para la dosis nula le corresponde una densidad óptica nula también. Como vemos en la gráfica, cerca del origen hay menos concreción para los valores. Entonces, al incluir el término de ordenada en el origen obligamos a pasar el ajuste por el origen, minimizando el error relativo en las zonas cercanas al origen. Así se consigue que se comporte como debe hacerlo teóricamente."
      ],
      "metadata": {
        "id": "x0ETNwa84Xfe"
      },
      "id": "x0ETNwa84Xfe"
    },
    {
      "cell_type": "markdown",
      "id": "d146f417-2ce0-44dc-8c72-326c98e5092f",
      "metadata": {
        "id": "d146f417-2ce0-44dc-8c72-326c98e5092f"
      },
      "source": [
        "#### 1.2 Modelo basado en funciones racionales\n",
        "\n",
        "Realizar el ajuste multiparamétrico no lineal"
      ]
    },
    {
      "cell_type": "code",
      "execution_count": 14,
      "id": "05152f31-66ce-4a16-94c1-dc76124993fe",
      "metadata": {
        "tags": [],
        "id": "05152f31-66ce-4a16-94c1-dc76124993fe"
      },
      "outputs": [],
      "source": [
        "# - Importar la función curve_fit del módulo scipy.optimize - #\n",
        "from scipy.optimize import curve_fit"
      ]
    },
    {
      "cell_type": "markdown",
      "id": "b7d41943-ecc0-4c42-9a96-bf48bbbd6d14",
      "metadata": {
        "id": "b7d41943-ecc0-4c42-9a96-bf48bbbd6d14"
      },
      "source": [
        "Para el canal rojo"
      ]
    },
    {
      "cell_type": "code",
      "execution_count": 15,
      "id": "662c9e88-3d94-43aa-ba02-c4936a8378cd",
      "metadata": {
        "tags": [],
        "id": "662c9e88-3d94-43aa-ba02-c4936a8378cd"
      },
      "outputs": [],
      "source": [
        "# - Esta celda no se tiene que modificar - #\n",
        "# - Llamar a la fucnión curve fit utilizando como argumentos: la función del modelo racional, las dosis, - #\n",
        "# - la densidad óptica del canal correspondiente, y una aproximación razonable de los parámetros.        - #\n",
        "# - Obtener el vector de parámetros y la matriz de covarianzas                                           - #\n",
        "Rpar, Rcov = curve_fit(ratf, caldf.D, caldf.dR, [3, 0.1, 5])"
      ]
    },
    {
      "cell_type": "markdown",
      "id": "c9a97db7-2128-400c-bc05-b9f59c3a16f8",
      "metadata": {
        "id": "c9a97db7-2128-400c-bc05-b9f59c3a16f8"
      },
      "source": [
        "Para el canal verde"
      ]
    },
    {
      "cell_type": "code",
      "execution_count": 16,
      "id": "59bb52a7-b949-47bc-9425-e8e82e0d2d92",
      "metadata": {
        "id": "59bb52a7-b949-47bc-9425-e8e82e0d2d92"
      },
      "outputs": [],
      "source": [
        "# - Llamar a la fucnión curve fit utilizando como argumentos: la función del modelo racional, las dosis, - #\n",
        "# - la densidad óptica del canal correspondiente, y una aproximación razonable de los parámetros.        - #\n",
        "# - Obtener el vector de parámetros y la matriz de covarianzas                                           - #\n",
        "Gpar, Gcov = curve_fit(ratf, caldf.D, caldf.dG, [3, 0.1, 5])"
      ]
    },
    {
      "cell_type": "markdown",
      "id": "8f606d1b-1955-4674-a9a2-d820838a7229",
      "metadata": {
        "id": "8f606d1b-1955-4674-a9a2-d820838a7229"
      },
      "source": [
        "Para el canal azul"
      ]
    },
    {
      "cell_type": "code",
      "execution_count": 17,
      "id": "26129808-5036-433e-8ca0-b0109fa822de",
      "metadata": {
        "id": "26129808-5036-433e-8ca0-b0109fa822de"
      },
      "outputs": [],
      "source": [
        "# - Llamar a la fucnión curve fit utilizando como argumentos: la función del modelo racional, las dosis, - #\n",
        "# - la densidad óptica del canal correspondiente, y una aproximación razonable de los parámetros.        - #\n",
        "# - Obtener el vector de parámetros y la matriz de covarianzas                                           - #\n",
        "Bpar, Bcov = curve_fit(ratf, caldf.D, caldf.dB, [3, 0.1, 5])"
      ]
    },
    {
      "cell_type": "markdown",
      "id": "a4b5fd3f-06e6-42eb-95b9-3bbacdb22cda",
      "metadata": {
        "id": "a4b5fd3f-06e6-42eb-95b9-3bbacdb22cda"
      },
      "source": [
        "Mostramos los parámetros de ajuste en forma de tabla recogiéndolos en un DataFrame de pandas"
      ]
    },
    {
      "cell_type": "code",
      "execution_count": 18,
      "id": "1c2c2970-e572-4e07-b1b2-7e90ed5c18c4",
      "metadata": {
        "colab": {
          "base_uri": "https://localhost:8080/",
          "height": 161
        },
        "id": "1c2c2970-e572-4e07-b1b2-7e90ed5c18c4",
        "outputId": "4c1c5961-5293-4f11-f4be-fa41a1da63e2"
      },
      "outputs": [
        {
          "output_type": "stream",
          "name": "stdout",
          "text": [
            "Parametros del modelo racional:\n"
          ]
        },
        {
          "output_type": "execute_result",
          "data": {
            "text/plain": [
              "           a         b          c\n",
              "R  11.742521  4.223242  11.578877\n",
              "G  24.633138  5.544332  24.240558\n",
              "B  18.954748  2.870969  18.650259"
            ],
            "text/html": [
              "\n",
              "  <div id=\"df-46a7c32c-1f0b-4f43-bc51-b0946e459d2b\" class=\"colab-df-container\">\n",
              "    <div>\n",
              "<style scoped>\n",
              "    .dataframe tbody tr th:only-of-type {\n",
              "        vertical-align: middle;\n",
              "    }\n",
              "\n",
              "    .dataframe tbody tr th {\n",
              "        vertical-align: top;\n",
              "    }\n",
              "\n",
              "    .dataframe thead th {\n",
              "        text-align: right;\n",
              "    }\n",
              "</style>\n",
              "<table border=\"1\" class=\"dataframe\">\n",
              "  <thead>\n",
              "    <tr style=\"text-align: right;\">\n",
              "      <th></th>\n",
              "      <th>a</th>\n",
              "      <th>b</th>\n",
              "      <th>c</th>\n",
              "    </tr>\n",
              "  </thead>\n",
              "  <tbody>\n",
              "    <tr>\n",
              "      <th>R</th>\n",
              "      <td>11.742521</td>\n",
              "      <td>4.223242</td>\n",
              "      <td>11.578877</td>\n",
              "    </tr>\n",
              "    <tr>\n",
              "      <th>G</th>\n",
              "      <td>24.633138</td>\n",
              "      <td>5.544332</td>\n",
              "      <td>24.240558</td>\n",
              "    </tr>\n",
              "    <tr>\n",
              "      <th>B</th>\n",
              "      <td>18.954748</td>\n",
              "      <td>2.870969</td>\n",
              "      <td>18.650259</td>\n",
              "    </tr>\n",
              "  </tbody>\n",
              "</table>\n",
              "</div>\n",
              "    <div class=\"colab-df-buttons\">\n",
              "\n",
              "  <div class=\"colab-df-container\">\n",
              "    <button class=\"colab-df-convert\" onclick=\"convertToInteractive('df-46a7c32c-1f0b-4f43-bc51-b0946e459d2b')\"\n",
              "            title=\"Convert this dataframe to an interactive table.\"\n",
              "            style=\"display:none;\">\n",
              "\n",
              "  <svg xmlns=\"http://www.w3.org/2000/svg\" height=\"24px\" viewBox=\"0 -960 960 960\">\n",
              "    <path d=\"M120-120v-720h720v720H120Zm60-500h600v-160H180v160Zm220 220h160v-160H400v160Zm0 220h160v-160H400v160ZM180-400h160v-160H180v160Zm440 0h160v-160H620v160ZM180-180h160v-160H180v160Zm440 0h160v-160H620v160Z\"/>\n",
              "  </svg>\n",
              "    </button>\n",
              "\n",
              "  <style>\n",
              "    .colab-df-container {\n",
              "      display:flex;\n",
              "      gap: 12px;\n",
              "    }\n",
              "\n",
              "    .colab-df-convert {\n",
              "      background-color: #E8F0FE;\n",
              "      border: none;\n",
              "      border-radius: 50%;\n",
              "      cursor: pointer;\n",
              "      display: none;\n",
              "      fill: #1967D2;\n",
              "      height: 32px;\n",
              "      padding: 0 0 0 0;\n",
              "      width: 32px;\n",
              "    }\n",
              "\n",
              "    .colab-df-convert:hover {\n",
              "      background-color: #E2EBFA;\n",
              "      box-shadow: 0px 1px 2px rgba(60, 64, 67, 0.3), 0px 1px 3px 1px rgba(60, 64, 67, 0.15);\n",
              "      fill: #174EA6;\n",
              "    }\n",
              "\n",
              "    .colab-df-buttons div {\n",
              "      margin-bottom: 4px;\n",
              "    }\n",
              "\n",
              "    [theme=dark] .colab-df-convert {\n",
              "      background-color: #3B4455;\n",
              "      fill: #D2E3FC;\n",
              "    }\n",
              "\n",
              "    [theme=dark] .colab-df-convert:hover {\n",
              "      background-color: #434B5C;\n",
              "      box-shadow: 0px 1px 3px 1px rgba(0, 0, 0, 0.15);\n",
              "      filter: drop-shadow(0px 1px 2px rgba(0, 0, 0, 0.3));\n",
              "      fill: #FFFFFF;\n",
              "    }\n",
              "  </style>\n",
              "\n",
              "    <script>\n",
              "      const buttonEl =\n",
              "        document.querySelector('#df-46a7c32c-1f0b-4f43-bc51-b0946e459d2b button.colab-df-convert');\n",
              "      buttonEl.style.display =\n",
              "        google.colab.kernel.accessAllowed ? 'block' : 'none';\n",
              "\n",
              "      async function convertToInteractive(key) {\n",
              "        const element = document.querySelector('#df-46a7c32c-1f0b-4f43-bc51-b0946e459d2b');\n",
              "        const dataTable =\n",
              "          await google.colab.kernel.invokeFunction('convertToInteractive',\n",
              "                                                    [key], {});\n",
              "        if (!dataTable) return;\n",
              "\n",
              "        const docLinkHtml = 'Like what you see? Visit the ' +\n",
              "          '<a target=\"_blank\" href=https://colab.research.google.com/notebooks/data_table.ipynb>data table notebook</a>'\n",
              "          + ' to learn more about interactive tables.';\n",
              "        element.innerHTML = '';\n",
              "        dataTable['output_type'] = 'display_data';\n",
              "        await google.colab.output.renderOutput(dataTable, element);\n",
              "        const docLink = document.createElement('div');\n",
              "        docLink.innerHTML = docLinkHtml;\n",
              "        element.appendChild(docLink);\n",
              "      }\n",
              "    </script>\n",
              "  </div>\n",
              "\n",
              "\n",
              "<div id=\"df-371ff6b2-b54e-42a8-b0af-58a6cd19f494\">\n",
              "  <button class=\"colab-df-quickchart\" onclick=\"quickchart('df-371ff6b2-b54e-42a8-b0af-58a6cd19f494')\"\n",
              "            title=\"Suggest charts\"\n",
              "            style=\"display:none;\">\n",
              "\n",
              "<svg xmlns=\"http://www.w3.org/2000/svg\" height=\"24px\"viewBox=\"0 0 24 24\"\n",
              "     width=\"24px\">\n",
              "    <g>\n",
              "        <path d=\"M19 3H5c-1.1 0-2 .9-2 2v14c0 1.1.9 2 2 2h14c1.1 0 2-.9 2-2V5c0-1.1-.9-2-2-2zM9 17H7v-7h2v7zm4 0h-2V7h2v10zm4 0h-2v-4h2v4z\"/>\n",
              "    </g>\n",
              "</svg>\n",
              "  </button>\n",
              "\n",
              "<style>\n",
              "  .colab-df-quickchart {\n",
              "      --bg-color: #E8F0FE;\n",
              "      --fill-color: #1967D2;\n",
              "      --hover-bg-color: #E2EBFA;\n",
              "      --hover-fill-color: #174EA6;\n",
              "      --disabled-fill-color: #AAA;\n",
              "      --disabled-bg-color: #DDD;\n",
              "  }\n",
              "\n",
              "  [theme=dark] .colab-df-quickchart {\n",
              "      --bg-color: #3B4455;\n",
              "      --fill-color: #D2E3FC;\n",
              "      --hover-bg-color: #434B5C;\n",
              "      --hover-fill-color: #FFFFFF;\n",
              "      --disabled-bg-color: #3B4455;\n",
              "      --disabled-fill-color: #666;\n",
              "  }\n",
              "\n",
              "  .colab-df-quickchart {\n",
              "    background-color: var(--bg-color);\n",
              "    border: none;\n",
              "    border-radius: 50%;\n",
              "    cursor: pointer;\n",
              "    display: none;\n",
              "    fill: var(--fill-color);\n",
              "    height: 32px;\n",
              "    padding: 0;\n",
              "    width: 32px;\n",
              "  }\n",
              "\n",
              "  .colab-df-quickchart:hover {\n",
              "    background-color: var(--hover-bg-color);\n",
              "    box-shadow: 0 1px 2px rgba(60, 64, 67, 0.3), 0 1px 3px 1px rgba(60, 64, 67, 0.15);\n",
              "    fill: var(--button-hover-fill-color);\n",
              "  }\n",
              "\n",
              "  .colab-df-quickchart-complete:disabled,\n",
              "  .colab-df-quickchart-complete:disabled:hover {\n",
              "    background-color: var(--disabled-bg-color);\n",
              "    fill: var(--disabled-fill-color);\n",
              "    box-shadow: none;\n",
              "  }\n",
              "\n",
              "  .colab-df-spinner {\n",
              "    border: 2px solid var(--fill-color);\n",
              "    border-color: transparent;\n",
              "    border-bottom-color: var(--fill-color);\n",
              "    animation:\n",
              "      spin 1s steps(1) infinite;\n",
              "  }\n",
              "\n",
              "  @keyframes spin {\n",
              "    0% {\n",
              "      border-color: transparent;\n",
              "      border-bottom-color: var(--fill-color);\n",
              "      border-left-color: var(--fill-color);\n",
              "    }\n",
              "    20% {\n",
              "      border-color: transparent;\n",
              "      border-left-color: var(--fill-color);\n",
              "      border-top-color: var(--fill-color);\n",
              "    }\n",
              "    30% {\n",
              "      border-color: transparent;\n",
              "      border-left-color: var(--fill-color);\n",
              "      border-top-color: var(--fill-color);\n",
              "      border-right-color: var(--fill-color);\n",
              "    }\n",
              "    40% {\n",
              "      border-color: transparent;\n",
              "      border-right-color: var(--fill-color);\n",
              "      border-top-color: var(--fill-color);\n",
              "    }\n",
              "    60% {\n",
              "      border-color: transparent;\n",
              "      border-right-color: var(--fill-color);\n",
              "    }\n",
              "    80% {\n",
              "      border-color: transparent;\n",
              "      border-right-color: var(--fill-color);\n",
              "      border-bottom-color: var(--fill-color);\n",
              "    }\n",
              "    90% {\n",
              "      border-color: transparent;\n",
              "      border-bottom-color: var(--fill-color);\n",
              "    }\n",
              "  }\n",
              "</style>\n",
              "\n",
              "  <script>\n",
              "    async function quickchart(key) {\n",
              "      const quickchartButtonEl =\n",
              "        document.querySelector('#' + key + ' button');\n",
              "      quickchartButtonEl.disabled = true;  // To prevent multiple clicks.\n",
              "      quickchartButtonEl.classList.add('colab-df-spinner');\n",
              "      try {\n",
              "        const charts = await google.colab.kernel.invokeFunction(\n",
              "            'suggestCharts', [key], {});\n",
              "      } catch (error) {\n",
              "        console.error('Error during call to suggestCharts:', error);\n",
              "      }\n",
              "      quickchartButtonEl.classList.remove('colab-df-spinner');\n",
              "      quickchartButtonEl.classList.add('colab-df-quickchart-complete');\n",
              "    }\n",
              "    (() => {\n",
              "      let quickchartButtonEl =\n",
              "        document.querySelector('#df-371ff6b2-b54e-42a8-b0af-58a6cd19f494 button');\n",
              "      quickchartButtonEl.style.display =\n",
              "        google.colab.kernel.accessAllowed ? 'block' : 'none';\n",
              "    })();\n",
              "  </script>\n",
              "</div>\n",
              "\n",
              "  <div id=\"id_40048c19-978c-465d-8996-04ed2826473b\">\n",
              "    <style>\n",
              "      .colab-df-generate {\n",
              "        background-color: #E8F0FE;\n",
              "        border: none;\n",
              "        border-radius: 50%;\n",
              "        cursor: pointer;\n",
              "        display: none;\n",
              "        fill: #1967D2;\n",
              "        height: 32px;\n",
              "        padding: 0 0 0 0;\n",
              "        width: 32px;\n",
              "      }\n",
              "\n",
              "      .colab-df-generate:hover {\n",
              "        background-color: #E2EBFA;\n",
              "        box-shadow: 0px 1px 2px rgba(60, 64, 67, 0.3), 0px 1px 3px 1px rgba(60, 64, 67, 0.15);\n",
              "        fill: #174EA6;\n",
              "      }\n",
              "\n",
              "      [theme=dark] .colab-df-generate {\n",
              "        background-color: #3B4455;\n",
              "        fill: #D2E3FC;\n",
              "      }\n",
              "\n",
              "      [theme=dark] .colab-df-generate:hover {\n",
              "        background-color: #434B5C;\n",
              "        box-shadow: 0px 1px 3px 1px rgba(0, 0, 0, 0.15);\n",
              "        filter: drop-shadow(0px 1px 2px rgba(0, 0, 0, 0.3));\n",
              "        fill: #FFFFFF;\n",
              "      }\n",
              "    </style>\n",
              "    <button class=\"colab-df-generate\" onclick=\"generateWithVariable('ratpdf')\"\n",
              "            title=\"Generate code using this dataframe.\"\n",
              "            style=\"display:none;\">\n",
              "\n",
              "  <svg xmlns=\"http://www.w3.org/2000/svg\" height=\"24px\"viewBox=\"0 0 24 24\"\n",
              "       width=\"24px\">\n",
              "    <path d=\"M7,19H8.4L18.45,9,17,7.55,7,17.6ZM5,21V16.75L18.45,3.32a2,2,0,0,1,2.83,0l1.4,1.43a1.91,1.91,0,0,1,.58,1.4,1.91,1.91,0,0,1-.58,1.4L9.25,21ZM18.45,9,17,7.55Zm-12,3A5.31,5.31,0,0,0,4.9,8.1,5.31,5.31,0,0,0,1,6.5,5.31,5.31,0,0,0,4.9,4.9,5.31,5.31,0,0,0,6.5,1,5.31,5.31,0,0,0,8.1,4.9,5.31,5.31,0,0,0,12,6.5,5.46,5.46,0,0,0,6.5,12Z\"/>\n",
              "  </svg>\n",
              "    </button>\n",
              "    <script>\n",
              "      (() => {\n",
              "      const buttonEl =\n",
              "        document.querySelector('#id_40048c19-978c-465d-8996-04ed2826473b button.colab-df-generate');\n",
              "      buttonEl.style.display =\n",
              "        google.colab.kernel.accessAllowed ? 'block' : 'none';\n",
              "\n",
              "      buttonEl.onclick = () => {\n",
              "        google.colab.notebook.generateWithVariable('ratpdf');\n",
              "      }\n",
              "      })();\n",
              "    </script>\n",
              "  </div>\n",
              "\n",
              "    </div>\n",
              "  </div>\n"
            ],
            "application/vnd.google.colaboratory.intrinsic+json": {
              "type": "dataframe",
              "variable_name": "ratpdf",
              "summary": "{\n  \"name\": \"ratpdf\",\n  \"rows\": 3,\n  \"fields\": [\n    {\n      \"column\": \"a\",\n      \"properties\": {\n        \"dtype\": \"number\",\n        \"std\": 6.460499694738136,\n        \"min\": 11.742520932448665,\n        \"max\": 24.6331379139589,\n        \"num_unique_values\": 3,\n        \"samples\": [\n          11.742520932448665,\n          24.6331379139589,\n          18.95474812432836\n        ],\n        \"semantic_type\": \"\",\n        \"description\": \"\"\n      }\n    },\n    {\n      \"column\": \"b\",\n      \"properties\": {\n        \"dtype\": \"number\",\n        \"std\": 1.3367117656053022,\n        \"min\": 2.870969127640908,\n        \"max\": 5.544332041300907,\n        \"num_unique_values\": 3,\n        \"samples\": [\n          4.2232416660056655,\n          5.544332041300907,\n          2.870969127640908\n        ],\n        \"semantic_type\": \"\",\n        \"description\": \"\"\n      }\n    },\n    {\n      \"column\": \"c\",\n      \"properties\": {\n        \"dtype\": \"number\",\n        \"std\": 6.345260907526964,\n        \"min\": 11.578877491318504,\n        \"max\": 24.240557505147706,\n        \"num_unique_values\": 3,\n        \"samples\": [\n          11.578877491318504,\n          24.240557505147706,\n          18.650259444592912\n        ],\n        \"semantic_type\": \"\",\n        \"description\": \"\"\n      }\n    }\n  ]\n}"
            }
          },
          "metadata": {},
          "execution_count": 18
        }
      ],
      "source": [
        "# - Esta celda no se tiene que modificar. Ejecutarla para mostrar los parámetros de ajuste - #\n",
        "# - Para que funcione correctamente los parámetros de ajuste de los canales verde y azul   - #\n",
        "# - se han tenido que recoger en las variables Gpar y Bpar                                 - #\n",
        "ratpdf = pd.DataFrame([Rpar, Gpar, Bpar], index=['R', 'G', 'B'], columns=['a', 'b', 'c'])\n",
        "print('Parametros del modelo racional:')\n",
        "ratpdf"
      ]
    },
    {
      "cell_type": "code",
      "execution_count": 19,
      "id": "269d7b25-2241-4dc2-8d53-baf2de875398",
      "metadata": {
        "colab": {
          "base_uri": "https://localhost:8080/",
          "height": 466
        },
        "id": "269d7b25-2241-4dc2-8d53-baf2de875398",
        "outputId": "185216a5-f349-46e2-a12e-69b2826a8147"
      },
      "outputs": [
        {
          "output_type": "execute_result",
          "data": {
            "text/plain": [
              "<matplotlib.legend.Legend at 0x7d94d5e85bd0>"
            ]
          },
          "metadata": {},
          "execution_count": 19
        },
        {
          "output_type": "display_data",
          "data": {
            "text/plain": [
              "<Figure size 640x480 with 1 Axes>"
            ],
            "image/png": "[encoded data removed]"
          },
          "metadata": {}
        }
      ],
      "source": [
        "# - Hacer una gráfica de la densidad óptica en función de la dosis en la que se muestren las medidas y su ajuste - #\n",
        "D = caldf.D\n",
        "Dg = np.arange(0,10.1,0.1)\n",
        "fig, ax = plt.subplots()\n",
        "ax.plot(D, caldf.dR, 'ro', label='R')\n",
        "ax.plot(Dg, ratf(Dg, *Rpar), 'r-', label='R Racional')\n",
        "# - Añadir el código para el canal verde - #\n",
        "ax.plot(D, caldf.dG, 'go', label='G')\n",
        "ax.plot(Dg, ratf(Dg, *Gpar), 'g-', label='G Racional')\n",
        "# - Añadir el código apra canal azul - #\n",
        "ax.plot(D, caldf.dB, 'bo', label='B')\n",
        "ax.plot(Dg, ratf(Dg, *Bpar), 'b-', label='B Racional')\n",
        "ax.set_xlabel('Dosis [Gy]')\n",
        "ax.set_ylabel('Densidad Óptica')\n",
        "ax.legend(loc='upper left')"
      ]
    },
    {
      "cell_type": "markdown",
      "id": "69d3ac6f-c0cd-42c0-b213-62b7e002e10d",
      "metadata": {
        "id": "69d3ac6f-c0cd-42c0-b213-62b7e002e10d"
      },
      "source": [
        "Diferencias relativas entre ambos modelos para cada canal para dosis en el rango $(0.5, 10)$ Gy con una resolución de $0.1$ Gy"
      ]
    },
    {
      "cell_type": "code",
      "execution_count": 20,
      "id": "9a3ba16d-3ec6-41b9-883a-5f3cc10fcc50",
      "metadata": {
        "id": "9a3ba16d-3ec6-41b9-883a-5f3cc10fcc50"
      },
      "outputs": [],
      "source": [
        "Dg = np.arange(0.5, 10, 0.1)\n",
        "erRg = (R2phf(Dg, *R_regressor.coef_) + R_regressor.intercept_ - ratf(Dg, *Rpar))/(R2phf(Dg, *R_regressor.coef_) + R_regressor.intercept_) * 100\n",
        "# - Añadir el código para los errores relativos en los canales verde y azul\n",
        "erGg = (GB2phf(Dg, *G_regressor.coef_) + G_regressor.intercept_ - ratf(Dg, *Gpar))/(GB2phf(Dg, *G_regressor.coef_) + G_regressor.intercept_) * 100\n",
        "erBg = (GB2phf(Dg, *B_regressor.coef_) + B_regressor.intercept_ - ratf(Dg, *Bpar))/(GB2phf(Dg, *B_regressor.coef_) + B_regressor.intercept_) * 100"
      ]
    },
    {
      "cell_type": "code",
      "execution_count": 21,
      "id": "3efbc9e3-05b2-4491-b938-0556d13f7a1b",
      "metadata": {
        "colab": {
          "base_uri": "https://localhost:8080/",
          "height": 455
        },
        "id": "3efbc9e3-05b2-4491-b938-0556d13f7a1b",
        "outputId": "19c40659-85e5-4922-fcbb-e839d6f84bea"
      },
      "outputs": [
        {
          "output_type": "display_data",
          "data": {
            "text/plain": [
              "<Figure size 640x480 with 1 Axes>"
            ],
            "image/png": "[encoded data removed]"
          },
          "metadata": {}
        }
      ],
      "source": [
        "# - Representar en un gráfica los errores relativos en los tres canales - #\n",
        "fig, ax = plt.subplots()\n",
        "ax.plot(Dg, erRg, 'r-', label='R')\n",
        "# - Añadir el código para los canales verde y azul - #\n",
        "ax.plot(Dg, erGg, 'g-', label='G')\n",
        "ax.plot(Dg, erBg, 'b-', label='B')\n",
        "\n",
        "ax.set_xlim(0.5, 10)\n",
        "ax.set_ylim(-1.5, 1.5)\n",
        "ax.set_xlabel('Dosis [Gy]')\n",
        "ax.set_ylabel('Error relativo [%]')\n",
        "plt.show()"
      ]
    },
    {
      "cell_type": "code",
      "execution_count": 22,
      "id": "922be516-9dde-43da-9862-514aaa8aef8b",
      "metadata": {
        "colab": {
          "base_uri": "https://localhost:8080/",
          "height": 452
        },
        "id": "922be516-9dde-43da-9862-514aaa8aef8b",
        "outputId": "24ee13e3-6622-4a47-89bb-5786924fb04c"
      },
      "outputs": [
        {
          "output_type": "display_data",
          "data": {
            "text/plain": [
              "<Figure size 640x480 with 1 Axes>"
            ],
            "image/png": "[encoded data removed]"
          },
          "metadata": {}
        }
      ],
      "source": [
        "# - Representar mediante histogramas las distribuciones de errores relativos - #\n",
        "fig, ax = plt.subplots()\n",
        "ax.hist(erRg, color='r', bins=20, label='R', histtype='step')\n",
        "# - Añadir el código para los canales verde y azul - #\n",
        "ax.hist(erGg, color='g', bins=20, label='G', histtype='step')\n",
        "ax.hist(erBg, color='b', bins=20, label='B', histtype='step')\n",
        "ax.set_xlabel('Error relativo [%]')\n",
        "ax.set_ylabel('Frecuencia')\n",
        "ax.legend()\n",
        "plt.show()"
      ]
    },
    {
      "cell_type": "markdown",
      "id": "5332a617-1c05-4a9c-bff1-ccbae0cb6902",
      "metadata": {
        "id": "5332a617-1c05-4a9c-bff1-ccbae0cb6902"
      },
      "source": [
        "A la vista de los últimos gráficos realizados:\n",
        "\n",
        "- Acotar el valor del error relativo entre ambos modelos\n",
        "- Comentar sobre el tipo de distribución que parece seguir el error relativo (normal, uniforme, lognormal, otra) y sobre su naturaleza (aleatoria, sistemática)\n",
        "- Comentar acerca de la bondad de los modelos propuestos para representar las medidas realizadas"
      ]
    },
    {
      "cell_type": "markdown",
      "id": "5b53fa2c-e781-4151-825c-185941af78cf",
      "metadata": {
        "id": "5b53fa2c-e781-4151-825c-185941af78cf"
      },
      "source": []
    },
    {
      "cell_type": "markdown",
      "id": "ef05b989-926c-4f9f-a940-d606022adc11",
      "metadata": {
        "id": "ef05b989-926c-4f9f-a940-d606022adc11"
      },
      "source": [
        "## Segunda parte: Comparación de distribuciones espaciales de dosis\n",
        "\n",
        "En el flujo de trabajo de un Servicio de Radioterapia es común tener que comparar distribuciones espaciales de dosis, normalmente la distribución calculada frente a la distribución medida.\n",
        "\n",
        "Habitualmente estas comparaciones se realizan en términos de la diferencia de dosis, la distancia al acuerdo o una métrica combinada de ambas que se denomina mapa gamma.\n",
        "\n",
        "Dados dos mapas de dosis, $D_r$ dosis de referencia y $D_e$ dosis de evaluación, distribuidos en el espacio con coordenadas $\\mathbf{r}_r$ y $\\mathbf{r}_e$ la diferencia de dosis de dosis (*DD*) se define\n",
        "\n",
        "\\begin{equation}\n",
        "    \\Delta D = D_e(\\mathbf{r}) - D_r(\\mathbf{r})\n",
        "\\end{equation}\n",
        "\n",
        "Obviamente para calcular la diferencia de dosis ambos mapas de dosis se refieren al mismo marco de referencia, y la diferencia se evalua punto a punto sobre la misma coordenada.\n",
        "\n",
        "Es habitual expresar la diferencia de dosis en términos relativos, normalmente en porcentaje del valor local\n",
        "\n",
        "\\begin{equation}\n",
        "    \\Delta D = \\frac{D_e(\\mathbf{e}) - D_r(\\mathbf{r})}{D_r(\\mathbf{r})}100\n",
        "\\end{equation}\n",
        "\n",
        "o en porcentaje de un valor fijo global de la dosis de referencia\n",
        "\n",
        "\\begin{equation}\n",
        "    \\Delta D = \\frac{D_e(\\mathbf{r}) - D_r(\\mathbf{r})}{D_{\\text{ref}}}100\n",
        "\\end{equation}\n",
        "\n",
        "El valor $D_{\\text{ref}}$ puede ser la dosis de prescripción, la dosis máxima en la distribución o cualquier otro valor que resulte relevante para el tratamiento.\n",
        "\n",
        "La diferencia de dosis resulta especialmente informativa en regiones de bajo gradiente de dosis. En regiones de alto gradiente de dosis pequeñas variaciones espaciales entre las distribuciones producen grandes diferencias de dosis que sin embargo pueden no tener relevancia clínica.\n",
        "\n",
        "La distancia al acuerdo (*DTA*) es la distancia $d(\\mathbf{r}_e, \\mathbf{r}_r)$ que separa los puntos del espacio de evaluación $\\mathbf{r}_e$ y de referencia $\\mathbf{r}_r$ para un mismo valor de dosis. De forma más imprecisa podemos decir también que es la distancia que separa las curvas de isodosis entre ambas distribuciones. Es espcialmente informativa en regiones de alto gradiente de dosis.\n",
        "\n",
        "Para criterios de aceptación $\\delta D$ y $\\delta d$,  sobre la diferencia de dosis y la distancia al acuerdo respectivamente, el índice $\\gamma(\\delta d, \\delta D)$ es una métrica conjunta de la diferencia de dosis $\\Delta D(\\mathbf{r}_e, \\mathbf{r}_r)$ y la distancia $d(\\mathbf{r}_e, \\mathbf{r}_r)$ definida como\n",
        "\n",
        "\\begin{equation}\n",
        "\\gamma(\\mathbf{r}_r,\\delta d, \\delta D) = \\text{min}\\{ \\sqrt{\\frac{d^2(\\mathbf{r}_e, \\mathbf{r}_r)}{\\delta d^2}+\\frac{\\Delta D^2(\\mathbf{r}_e, \\mathbf{r}_r)}{\\delta D^2}} \\} \\forall \\mathbf{r}_e\n",
        "\\end{equation}\n",
        "\n",
        "### Objetivos\n",
        "\n",
        "- Aplicar la calibración realizada en la primera parte para calcular una distribución de evaluación a partir de medidas de la señal digital\n",
        "- Emplear estas métricas, simplificadas a una sola dimensión, para comparar dos perfiles de dosis\n",
        "- Realizar un cálculo simplificado del indice gamma en una sola dimensión para profundizar en el concepto del indice gamma\n",
        "- Comparar nuestro cálculo del índice gamma con el proporcionado por las herramientas del módulo `pymedphys`\n",
        "- Empleando el módulo `pymedphys` elaborar un mapa gamma de la distribución bidimensional completa\n",
        "\n",
        "### Simplificaciones\n",
        "\n",
        "- La señal digital proporcionada por el escáner al leer la película es monocromática y corresponde al canal rojo.\n",
        "- El sistema dosimétrico se calibra mediante la aproximación racional\n",
        "\n",
        "**Nota**: Téngase en cuenta que la función de respuesta para el modelo racional es invertible analíticamente.\n",
        "La inversión de la función de respuesta es necesaria para obtener la función de calibración que nos da la dosis para cada valor de señal digital leído.\n",
        "\n",
        "Para comenzar la segunda parte leemos las señales digitales correspondientes al canal rojo medidos por el escáner.\n",
        "\n",
        "Estos valores se proporcionan en formato `dxf`.\n",
        "\n",
        "Recordemos que `dxf` es un formato de archivo para intercambio de datos de la casa comercial Varian basado en `csv` _**c**omma **s**eparated **v**alues_."
      ]
    },
    {
      "cell_type": "code",
      "execution_count": null,
      "id": "2182161d-b1fd-4881-aa8f-44f2c76b0f90",
      "metadata": {
        "id": "2182161d-b1fd-4881-aa8f-44f2c76b0f90"
      },
      "outputs": [],
      "source": [
        "# - Esta celda no se tiene que modificar. Ejecutarla para descagar los datos - #\n",
        "# Dosis de referencia\n",
        "!wget https://raw.githubusercontent.com/csarux/TutorialesFisicaRadioterapia/main/Enunciados/ComparacionDistribucionesDosis/Dosis_Referencia.dxf\n",
        "# Señal del canal rojo de la imagen digitalizada de la distribución de dosis de evaluación\n",
        "!wget https://raw.githubusercontent.com/csarux/TutorialesFisicaRadioterapia/main/Enunciados/ComparacionDistribucionesDosis/Digital_signal_evaluation.dxf"
      ]
    },
    {
      "cell_type": "markdown",
      "id": "3b9f4c8f-f17c-4645-bf62-66e533132392",
      "metadata": {
        "id": "3b9f4c8f-f17c-4645-bf62-66e533132392"
      },
      "source": [
        "Leer en DataFrames de pandas los datos de la dosis de referencia y la señal digital correspondiente a la dosis de evaluación"
      ]
    },
    {
      "cell_type": "code",
      "execution_count": null,
      "id": "562dcd86-ded7-47ee-94e4-ae06b7b0d7a2",
      "metadata": {
        "tags": [],
        "id": "562dcd86-ded7-47ee-94e4-ae06b7b0d7a2"
      },
      "outputs": [],
      "source": [
        "# - Esta celda no se tiene que modificar. Ejecutarla para leer los datos descargados - #\n",
        "Drdf = pd.read_csv('Dosis_Referencia.dxf', header=47, sep='\\t', names=np.arange(160))\n",
        "Rdf = pd.read_csv('Digital_signal_evaluation.dxf', header=47, sep='\\t', names=np.arange(160))"
      ]
    },
    {
      "cell_type": "markdown",
      "id": "2a927761-6537-4315-891b-73467137a65a",
      "metadata": {
        "id": "2a927761-6537-4315-891b-73467137a65a"
      },
      "source": [
        "Calcular la dosis de evaluación a partir de la señal digital\n",
        "\n",
        "Teniendo en cuenta la definición de la densidad ótpica $d$ a partir de la señal digital $S$\n",
        "\n",
        "\\begin{equation}\n",
        "    d=\\log_{10}\\frac{2^{16}}{S}\n",
        "\\end{equation}\n",
        "\n",
        "podemos invertir la función de respuesta\n",
        "\\begin{equation}\n",
        "    d = \\log_{10}\\frac{c + D}{a + b\\,D} \\\\\n",
        "    \\frac{S}{2^{16}} = \\frac{c + D}{a + b\\,D} \\\\\n",
        "    (c + D)\\, \\frac{2^{16}}{S} = a + b\\,D \\\\\n",
        "    c\\,\\frac{2^{16}}{S} - a = (b - \\frac{2^{16}}{S})\\, D \\\\\n",
        "    D = \\frac{c\\frac{2^{16}}{S} - a}{b - 2^{16}/S}\n",
        "\\end{equation}\n"
      ]
    },
    {
      "cell_type": "code",
      "execution_count": null,
      "id": "aa5b7416-d1fc-4e3a-9d27-6fd5516ab9ae",
      "metadata": {
        "id": "aa5b7416-d1fc-4e3a-9d27-6fd5516ab9ae"
      },
      "outputs": [],
      "source": [
        "# - Definir la función de calibración invertiendo la función de respuesta ajustada en la primera parte. - #\n",
        "# - Para ello completar el siguiente cuerpo de código para definir una función que nos dé la dosis      - #\n",
        "# - a partir de los valores de la señal digital R del canal rojo y de los parámetros a, b, c del        - #\n",
        "# - modelo racional correspondiente a ese canal.                                                        - #\n",
        "def Df(R, a, b, c):\n",
        "    return"
      ]
    },
    {
      "cell_type": "code",
      "execution_count": null,
      "id": "2111a9aa-c519-4f8b-84e3-48a174d65c29",
      "metadata": {
        "tags": [],
        "id": "2111a9aa-c519-4f8b-84e3-48a174d65c29"
      },
      "outputs": [],
      "source": [
        "# - Esta celda no se tiene que modificar - #\n",
        "# - Aplicar la función de calibración a las señales digitales del canal rojo y definir con las dosis de evaluación obtenidas el DataFrame Dedf - #\n",
        "Dedf = pd.DataFrame(Df(Rdf.values, *Rpar))"
      ]
    },
    {
      "cell_type": "markdown",
      "id": "a77bab5a-5714-4020-a654-38447a27e8f9",
      "metadata": {
        "id": "a77bab5a-5714-4020-a654-38447a27e8f9"
      },
      "source": [
        "Para simplificar el análisis mediante el índice gamma reducimos la distribución a una sola dimensión.\n",
        "\n",
        "Definimos la coordenada para extraer el perfil de dosis y extraemos los perfiles"
      ]
    },
    {
      "cell_type": "code",
      "execution_count": null,
      "id": "72eb23e3-3be2-49b6-b632-22711c85c4fb",
      "metadata": {
        "tags": [],
        "id": "72eb23e3-3be2-49b6-b632-22711c85c4fb"
      },
      "outputs": [],
      "source": [
        "# - Esta celda no se tiene que modificar - #\n",
        "\n",
        "# Definir la coordenada de referencia del perfil de dosis - #\n",
        "xprf = 80\n",
        "\n",
        "# Extraer los perfiles de dosis\n",
        "Drv = Drdf[xprf] # Vector de dosis de referencia\n",
        "Dev = Dedf[xprf] # Vector de dosis de evaluación"
      ]
    },
    {
      "cell_type": "markdown",
      "id": "c7b24359-59da-4adc-9caa-aa191776d245",
      "metadata": {
        "id": "c7b24359-59da-4adc-9caa-aa191776d245"
      },
      "source": [
        "Repersentamos gráficamente ambos perfiles de dosis. Para realizar esta figura sacamos partido de que los perfiles están tomados con un tamaño de pixel de 1 mm, por lo que no es neceario dar explicitamente la variable independiente."
      ]
    },
    {
      "cell_type": "code",
      "execution_count": null,
      "id": "ea0be447-83c6-4b96-b44f-08823286cc57",
      "metadata": {
        "id": "ea0be447-83c6-4b96-b44f-08823286cc57"
      },
      "outputs": [],
      "source": [
        "# - Código matplotlib del gráfico de comparación de ambos perfiles - #\n",
        "fig, ax = plt.subplots(figsize=(5, 5))\n",
        "ax.plot(Drv, 'r-', label='Referencia')\n",
        "# Añadir el código para el perfil de evaluación\n",
        "ax.set_ylabel('Dosis [Gy]')\n",
        "ax.set_xlabel('x [mm]')\n",
        "ax.legend()\n",
        "plt.show()"
      ]
    },
    {
      "cell_type": "markdown",
      "id": "090cb8ee-7053-4d87-8903-e73344577d9c",
      "metadata": {
        "id": "090cb8ee-7053-4d87-8903-e73344577d9c"
      },
      "source": [
        "Para realizar un cálculo simplificado del índice gamma para un criterio de acuerdo de 3%, 3 mm calculamos primero un array con la diferencia de dosis relativa al valor local de la dosis de referencia y otro con la diferencia de dosis relativa al valor máximo de dosis en el perfil de referencia. Expresamos los resultados en porcentaje."
      ]
    },
    {
      "cell_type": "code",
      "execution_count": null,
      "id": "5e7b5424-35aa-479e-afab-d2aa2a841b36",
      "metadata": {
        "id": "5e7b5424-35aa-479e-afab-d2aa2a841b36"
      },
      "outputs": [],
      "source": [
        "# - Código numpy para calcular las diferencias relativas de dosis locales y globales - #\n",
        "DDlv = (Dev - Drv) / Drv * 100 # Diferencia locales\n",
        "Drm = Drv.max() # referencia global de dosis. Tomamos el máximo de la distribucikón de dosis de referencia\n",
        "# - Añadir el código para calcular el vector con la diferencia de dosis global DDgv"
      ]
    },
    {
      "cell_type": "markdown",
      "id": "eb737bb9-4401-4648-92d9-0ab8a8b7c0b5",
      "metadata": {
        "id": "eb737bb9-4401-4648-92d9-0ab8a8b7c0b5"
      },
      "source": [
        "Representamos gráficamente las diferencias relativas de dosis globales y locales"
      ]
    },
    {
      "cell_type": "code",
      "execution_count": null,
      "id": "1f745d2e-3cc8-430c-8cdf-88d89b2c4a2f",
      "metadata": {
        "id": "1f745d2e-3cc8-430c-8cdf-88d89b2c4a2f"
      },
      "outputs": [],
      "source": [
        "#- Código matplotlib del gráfico de las diferencias relativas de dosis globales y locales  -#\n",
        "fig, ax = plt.subplots(figsize=(5, 5))\n",
        "ax.plot(DDgv, 'r-', label='Global')\n",
        "# - Añadir el código para mostrar las diferencias locales de dosis\n",
        "ax.set_ylabel('$\\Delta$D [%]')\n",
        "ax.set_xlabel('x [mm]')\n",
        "ax.legend()\n",
        "plt.show()"
      ]
    },
    {
      "cell_type": "markdown",
      "id": "59c0d7bd-e03e-4cd4-aea5-c92b9b302002",
      "metadata": {
        "id": "59c0d7bd-e03e-4cd4-aea5-c92b9b302002"
      },
      "source": [
        "En lo que sigue nos referiremos solo al criterio global. Se deja como ejercicio particularizarlo para el criterio local.\n",
        "\n",
        "En `numpy`es sencillo generar un array a partir de los elemento de otro array que cumplen una determinada condición.\n",
        "\n",
        "Por ejemplo si queremos crear un array `B` formado por los elementos del array `A` que verifican que son mayores que 1 basta con hacer `B = A[A>1]`.\n",
        "\n",
        "En el ejemplo anterior la condición `A > 1` crea un array de valores booleanos que se puede aplicar a cualquier array de las mismas dimensiones. Por ejemplo para filtrar valores en el array `C` aplicando la condición al array `A` escribimos: `B = C[A>1]`\n",
        "\n",
        "Filtramos los valores de los perfiles de evaluación y referencia que cumplen que la diferencia relativa global de dosis es superior al 3%"
      ]
    },
    {
      "cell_type": "code",
      "execution_count": null,
      "id": "0e1c117c-11d6-4f23-8afd-38941f3a339b",
      "metadata": {
        "id": "0e1c117c-11d6-4f23-8afd-38941f3a339b"
      },
      "outputs": [],
      "source": [
        "# - Código numpy para filtrar los valores que no pasan el criterio de diferencia relativa de dosis - #\n",
        "Dr_DDgt3 = Drv[DDgv > 3]\n",
        "# - Añadir el código numpy para filtrar los valores del perfil de evaluación con una diferencia global de dosis mayor del 3% De_DDgt3 - #"
      ]
    },
    {
      "cell_type": "markdown",
      "id": "8e67cd15-2818-430d-a6e5-1fc86ed60f91",
      "metadata": {
        "id": "8e67cd15-2818-430d-a6e5-1fc86ed60f91"
      },
      "source": [
        "Representamos gráficamente la parte de los perfiles que no cumplen el criterio de diferencia de dosis"
      ]
    },
    {
      "cell_type": "code",
      "execution_count": null,
      "id": "7c613bc8-c19f-45cb-b4ba-9b60087100e1",
      "metadata": {
        "id": "7c613bc8-c19f-45cb-b4ba-9b60087100e1"
      },
      "outputs": [],
      "source": [
        "# - Código matplotlib con la parte de los perfiles que no cumplen el criterio de diferencia de dosis - #\n",
        "fig, ax = plt.subplots(figsize=(5, 5))\n",
        "ax.plot(Dr_DDgt3, 'r-', label='Referencia')\n",
        "# - Añadir el código para representar el trozo de perfil de evaluación con diferencias globales de dosis mayores al 3% - #\n",
        "ax.set_ylabel('Dosis [Gy]')\n",
        "ax.set_xlabel('x [mm]')\n",
        "ax.legend()\n",
        "plt.show()"
      ]
    },
    {
      "cell_type": "markdown",
      "id": "311b473d-0441-424a-bbc9-e3922f5fed0e",
      "metadata": {
        "id": "311b473d-0441-424a-bbc9-e3922f5fed0e"
      },
      "source": [
        "No necesariamente todos los puntos que no cumplan el criterio sobre la diferencia de dosis no pasan el criterio gamma. De estos puntos hay que excluir al menos aquellos que tengan una distancia al acuerdo menor de 3 mm.\n",
        "\n",
        "Para calcular la distancia al acuerdo es más fácil invertir la representación anterior y dar la posición en función de la dosis. Obtendremos dos curvas: una para la distribución de referencia y otra para la de evaluación. La distancia al acuerdo lo podemos dar como otro array en el que cálculamos la distancia entre ambas curvas para cada valor de dosis en el perfil de referencia. Recordemos que los perfiles están obtenidos para un tamaño de píxel de 1 mm. El índice de cada elemento de dosis coincide con la posición espacial."
      ]
    },
    {
      "cell_type": "code",
      "execution_count": null,
      "id": "ded48b0e-c3c1-42b9-9cbf-1c2bd6b90521",
      "metadata": {
        "id": "ded48b0e-c3c1-42b9-9cbf-1c2bd6b90521"
      },
      "outputs": [],
      "source": [
        "# - Código matplotlib con la parte de los perfiles que no cumplen el criterio de diferencia de dosis representada la posición en función de la dosis- #\n",
        "fig, ax = plt.subplots(figsize=(5, 5))\n",
        "ax.plot(Dr_DDgt3, Dr_DDgt3.index, 'r-', label='Referencia')\n",
        "# - Añadir el código de la representación de la posición en funcón de la dosis de evaluación para la parte del perfil con una diferencia mayor del 3% - #\n",
        "ax.set_ylabel('Dosis [Gy]')\n",
        "ax.set_xlabel('x [mm]')\n",
        "ax.legend()\n",
        "plt.show()"
      ]
    },
    {
      "cell_type": "markdown",
      "id": "10d74119-0b6b-4dad-bbb4-70c388688cc8",
      "metadata": {
        "id": "10d74119-0b6b-4dad-bbb4-70c388688cc8"
      },
      "source": [
        "Como los valores de dosis en el perfil de evaluación no coinciden tenemos que interpolar este perfil.\n",
        "\n",
        "Consultar la documentación de la función [interp1d](https://docs.scipy.org/doc/scipy/reference/generated/scipy.interpolate.interp1d.html) del módulo `scipy.interpolate`para ver cómo realizar esta interpolación"
      ]
    },
    {
      "cell_type": "code",
      "execution_count": null,
      "id": "214f68b2-f176-48dd-85b2-d8e3f0bc66e0",
      "metadata": {
        "id": "214f68b2-f176-48dd-85b2-d8e3f0bc66e0"
      },
      "outputs": [],
      "source": [
        "# - No modificar esta celda. Ejecutarla para calcular la distancia al acuerdo dta - #\n",
        "from scipy.interpolate import interp1d\n",
        "xevainf = interp1d(De_DDgt3, De_DDgt3.index, fill_value='extrapolate')\n",
        "dta = Dr_DDgt3.index - xevainf(Dr_DDgt3)"
      ]
    },
    {
      "cell_type": "markdown",
      "id": "6a15ccd0-bd61-4dfa-a6e4-2de4b55a3d37",
      "metadata": {
        "id": "6a15ccd0-bd61-4dfa-a6e4-2de4b55a3d37"
      },
      "source": [
        "Para obtener las posiciones de los puntos con gamma mayor que 1 para criterios de 3%, 3mm de aquellos que no cumplen el criterio de diferencia de dosis del 3% filtramos los que no cumplen el criterio de distancia al acuerdo de 3 mm. Utilizamos la propiedad index para conocer su coordenada."
      ]
    },
    {
      "cell_type": "code",
      "execution_count": null,
      "id": "790e399b-8dfd-4508-abb8-927c3b83bac8",
      "metadata": {
        "id": "790e399b-8dfd-4508-abb8-927c3b83bac8"
      },
      "outputs": [],
      "source": [
        "# - Esta celda no se tiene que modificar - #\n",
        "# Definir las coordenada de los puntos con gamma > 1\n",
        "xgammav = Dr_DDgt3[dta > 3].index[:-1] # [:-1] Añadido para evitar un efecto de borde"
      ]
    },
    {
      "cell_type": "markdown",
      "id": "ccdb5038-1453-4ffd-bb5f-054b422d5d6e",
      "metadata": {
        "id": "ccdb5038-1453-4ffd-bb5f-054b422d5d6e"
      },
      "source": [
        "Calcular de forma detallada el valor de gamma(3%, 3mm) al comparar ambos perfiles utilizando la función [gamma](https://docs.pymedphys.com/en/latest/users/ref/lib/gamma.html) del módulo `pymedphys`"
      ]
    },
    {
      "cell_type": "code",
      "execution_count": null,
      "id": "882dd536-38c0-4a88-8839-3c462bbe5bc8",
      "metadata": {
        "id": "882dd536-38c0-4a88-8839-3c462bbe5bc8"
      },
      "outputs": [],
      "source": [
        "# - Importar e invocar la función gamma - #"
      ]
    },
    {
      "cell_type": "code",
      "execution_count": null,
      "id": "7b0e77eb-7685-4055-aa21-2153df4ef008",
      "metadata": {
        "id": "7b0e77eb-7685-4055-aa21-2153df4ef008"
      },
      "outputs": [],
      "source": [
        "# - Esta celda no se tiene que modificar - #\n",
        "# - Definir el vector de posiciones espaciales en las que se dan las dosis de referencia y de evaluación - #\n",
        "xv = np.arange(Dev.shape[0])"
      ]
    },
    {
      "cell_type": "code",
      "execution_count": null,
      "id": "0d918378-2327-4aba-b86c-63d297839809",
      "metadata": {
        "id": "0d918378-2327-4aba-b86c-63d297839809"
      },
      "outputs": [],
      "source": [
        "# - Calcular el valor de gamma para criterios de 3%, 3 mm                                                - #\n",
        "# - Utilizar el siguiente esqueleto                                                                      - #\n",
        "# - gammav = gamma(vector_posiciones, vector_Dreferencia, vector_posiciones, vector_Devaluaciónv, 3, 3)  - #"
      ]
    },
    {
      "cell_type": "markdown",
      "id": "51539ed2-cd00-40a9-8707-9a1854c406d1",
      "metadata": {
        "id": "51539ed2-cd00-40a9-8707-9a1854c406d1"
      },
      "source": [
        "Representar gráficamente el valor de gamma y comprobar si los puntos en los que gamma > 1 coinciden con buena aproximación con el cálculo simplificado realizado previamente. Dar una explicación cualitativa de las posibles diferencias."
      ]
    },
    {
      "cell_type": "markdown",
      "id": "55a69aee-be9f-4003-a213-6f4b9142923d",
      "metadata": {
        "id": "55a69aee-be9f-4003-a213-6f4b9142923d"
      },
      "source": []
    },
    {
      "cell_type": "markdown",
      "id": "e7f5ec0b-ad12-4cb0-b878-9bdfc6fc9ca9",
      "metadata": {
        "id": "e7f5ec0b-ad12-4cb0-b878-9bdfc6fc9ca9"
      },
      "source": [
        "Calcular el índice gamma empleando la función del módulo pymedphys intercambiando en sus argumentos las dosis de referencia y de evaluación. ¿Cambian los valores de gamma? Comentar"
      ]
    },
    {
      "cell_type": "markdown",
      "id": "304bfa72-3814-417b-bf21-afe518402383",
      "metadata": {
        "id": "304bfa72-3814-417b-bf21-afe518402383"
      },
      "source": []
    },
    {
      "cell_type": "markdown",
      "id": "70112390-fbfc-4cf3-8aff-5e2d8fcff7cb",
      "metadata": {
        "id": "70112390-fbfc-4cf3-8aff-5e2d8fcff7cb"
      },
      "source": [
        "### Evaluación del mapa gamma bidimensional\n",
        "\n",
        "Utilizamos la función `gamma` del módulo `pymedphys` para comparar bidimensionalmente las dos distribuciones de dosis.\n",
        "\n",
        "**Nota**: Utilizar como modelo el código presentado en el tutorial [Comparación de distribuciones mediante índice gamma](https://raw.githubusercontent.com/csarux/TutorialesFisicaRadioterapia/main/Colab/IndiceGammaComparacionDistribuciones.ipynb)\n",
        "\n",
        "Los pasos necesarios para reaizar la comparación y representar gráficamente los resultados son los siguientes:\n",
        "\n",
        "- Definir las coordenadas espaciales de ambas distribuciones de dosis. En nuestro caso están definidas para el mismo marco de referencia.\n",
        "- Invocar la función gamma sobre la distribución de referencia `Drdf.values` y de evaluación `Dedf.values`. Almacenar los resultados en la variable `gamma_map`\n",
        "- Definir un DataFrame con los resultados `gamma_map_df`.\n",
        "- Representar gráficamente la distribución de referencia, la de evaluación y el mapa gamma utilizando el módulo `seaborn`. Importarlo mediante `import seaborn as sns`\n",
        "\n",
        "**Nota**: En el tutorial también utilizamos `ticker`para no sobrecargar de etiquetas los ejes de los gráficos. Para usarlo hacer primero\n",
        "`import matplotlib.ticker as ticker`"
      ]
    },
    {
      "cell_type": "code",
      "execution_count": null,
      "id": "b23d4921-766e-424a-b4cf-ac67aad32982",
      "metadata": {
        "id": "b23d4921-766e-424a-b4cf-ac67aad32982"
      },
      "outputs": [],
      "source": [
        "# - Esta celda no se tiene que modificar - #\n",
        "import seaborn as sns\n",
        "import matplotlib.ticker as ticker"
      ]
    },
    {
      "cell_type": "code",
      "execution_count": null,
      "id": "3bc199e0-7b48-4322-9ee1-d64962176d2a",
      "metadata": {
        "id": "3bc199e0-7b48-4322-9ee1-d64962176d2a"
      },
      "outputs": [],
      "source": [
        "# Coordenadas\n",
        "xs, ys = # Definición de coordenadas\n",
        "\n",
        "# Mapa gamma\n",
        "gamma_map = # Invocar la función gamma\n",
        "\n",
        "# Definir DataFrame\n",
        "gamma_map_df = # Definir el DataFrame a partir de gamma_map\n",
        "\n",
        "# Función auxiliar para los gráficos\n",
        "def mapplot(ddf, ax, cmap='jet', label='Dosis [Gy]', title=None):\n",
        "    sns.heatmap(ddf, cmap=cmap, ax=ax, cbar_kws={'label': label})\n",
        "    ax.xaxis.set_major_locator(ticker.MultipleLocator(40))\n",
        "    ax.xaxis.set_major_formatter(ticker.ScalarFormatter())\n",
        "    ax.yaxis.set_major_locator(ticker.MultipleLocator(40))\n",
        "    ax.yaxis.set_major_formatter(ticker.ScalarFormatter())\n",
        "    ax.set_xlabel('x [mm]')\n",
        "    ax.set_ylabel('y [mm]')\n",
        "    ax.set_title(title)\n",
        "    return\n",
        "\n",
        "# Mostrar los resultados\n",
        "# - Código matplotlib que muestre los tres mapas: Dosis de referencia, dosis de evaluación y gamma. - #"
      ]
    },
    {
      "cell_type": "markdown",
      "id": "86e40ff8-4bd8-4aaf-9e27-c0d3c68e150c",
      "metadata": {
        "id": "86e40ff8-4bd8-4aaf-9e27-c0d3c68e150c"
      },
      "source": [
        "Del mapa gamma bidimensional podemos extraer los resultados correspondientes al mismo perfil sobre el que hemos realizado el análisis unidimensional y comparar los resultados"
      ]
    },
    {
      "cell_type": "code",
      "execution_count": null,
      "id": "1ca52c0c-772f-42c3-a149-0944fa8dd058",
      "metadata": {
        "id": "1ca52c0c-772f-42c3-a149-0944fa8dd058"
      },
      "outputs": [],
      "source": [
        "# - Esta celda no se tiene que modificar - #\n",
        "# Extraer el perfil de la evaluación bidimensional\n",
        "gamma2Dv = gamma_map_df[xprf]\n",
        "\n",
        "# Representar gráficamente ambos perfiles de gamma\n",
        "fig, ax = plt.subplots()\n",
        "ax.plot(gammav, 'r-', label='1D')\n",
        "ax.plot(gamma2Dv, 'b-', label='2D')\n",
        "ax.set_xlabel('x [mm]')\n",
        "ax.set_ylabel(r'$\\gamma$')\n",
        "ax.legend()\n",
        "plt.show()"
      ]
    },
    {
      "cell_type": "markdown",
      "id": "1f88f6c0-801e-4e2f-ad2c-2f45c0d2a0a0",
      "metadata": {
        "id": "1f88f6c0-801e-4e2f-ad2c-2f45c0d2a0a0"
      },
      "source": [
        "Explicar las diferencias entre ambos perfiles e identificar cuál de los dos análisis es más exigente. Comentar desde el punto de vista de la relevancia clínica si parece recomendable entonces emplear el criterio más exigente."
      ]
    },
    {
      "cell_type": "markdown",
      "id": "37ea9583-576b-4de0-be30-bd49c8fa1610",
      "metadata": {
        "id": "37ea9583-576b-4de0-be30-bd49c8fa1610"
      },
      "source": []
    }
  ],
  "metadata": {
    "kernelspec": {
      "display_name": "Python 3 (ipykernel)",
      "language": "python",
      "name": "python3"
    },
    "language_info": {
      "codemirror_mode": {
        "name": "ipython",
        "version": 3
      },
      "file_extension": ".py",
      "mimetype": "text/x-python",
      "name": "python",
      "nbconvert_exporter": "python",
      "pygments_lexer": "ipython3",
      "version": "3.10.9"
    },
    "toc-autonumbering": false,
    "toc-showcode": true,
    "toc-showmarkdowntxt": false,
    "toc-showtags": false,
    "colab": {
      "provenance": []
    }
  },
  "nbformat": 4,
  "nbformat_minor": 5
}