{
  "cells": [
    {
      "cell_type": "markdown",
      "id": "bed28c1d-6cf8-4edf-a73b-19b94666d0fa",
      "metadata": {
        "id": "bed28c1d-6cf8-4edf-a73b-19b94666d0fa"
      },
      "source": [
        "#### Física de la Radioterapia. Master de Física Biomédica. Universidad Complutense de Madrid\n",
        "# Calibración del acelerador lineal\n",
        "## Haces de fotones medidos en condiciones de referencia\n",
        "-----\n",
        "\n",
        "**Objetivos**:\n",
        "Determinar la dosis absorbida producida por un campo de radiación en condiciones estándar de calibración utilizando una cámara de ionización tipo Farmer y aplicando el [protocolo de dosimetría de la IAEA TRS398](https://www-pub.iaea.org/MTCD/publications/PDF/TRS_398s_Web.pdf). Se recomienda leer al menos el epígrafe **3. FORMALISMO BASADO EN** $N_{D,w}$ del protocolo.\n",
        "\n",
        "**Antecendentes**: De acuerdo al TRS398 la magnitud $D_{w, Q}$, dosis en agua para la calidad de la radiación $Q$, se puede determinar mediante la expresión\n",
        "\n",
        "\\begin{equation}\n",
        "    D_{w, Q} = M_Q\\;N_{D, w, Q_0}\\;k_{Q, Q_0}\\;k_{sat}\\;k_{pol}.\n",
        "\\end{equation}\n",
        "\n",
        "donde:\n",
        "- $M_Q$ es la lectura neta del electrómetro expresado en condiciones normales\n",
        "- $N_{D, w, Q_0}$ es el valor del factor de calibración de la cámara en condiciones de referencia\n",
        "- $k_{Q, Q_0}$ es el factor de corrección por la calidad del haz del factor de calibración\n",
        "- $k_{sat}$ es el factor de corrección por saturación de la cámara\n",
        "- $k_{pol}$ es factor de corrección por dependencia de la lectura de la cámara con la polarización de sus electrodos\n",
        "\n",
        "**Datos**:\n",
        "Los datos de la cámara empleada están recogidos en su [certificado de calibración](https://raw.githubusercontent.com/csarux/TutorialesFisicaRadioterapia/main/Enunciados/CalibracionAcelerador/docs/CamaraFarmer10820.pdf)\n",
        "\n",
        "Previamente se ha determinado que para esta cámara los factores de corrección por saturación $k_{sat}$ y por polarización $k_{pol}$ son ambos igual a uno en las condiciones de medida consideradas.\n",
        "\n",
        "La energía del haz empleado corresponde a una razón TPR${}_{20, 10} = 0.694$.\n",
        "\n",
        "Para recolectar la carga producida en la cámara se utiliza un electrómetro con una resolución de $0.001$ nC.\n",
        "\n",
        "## Cuestión\n",
        "1. **Obtener de los datos del TRS398 el factor de corrección de la calibración de la cámara por la energía para el haz utilizado.**\n",
        "\n",
        "**Ayuda:** Consultar el CUADRO 14 página 85."
      ]
    },
    {
      "cell_type": "markdown",
      "source": [
        "La calidad del haz es TPR=0.694. Para obtener un ajuste bastante adecuado le damos a TPR unos valores entre 0.68 y 0.70.\n",
        "\n",
        "También calculamos el error utilizando la incertidumbre que se da en el certificado de calibración (1,1%):"
      ],
      "metadata": {
        "id": "M2CcGmMLmuX4"
      },
      "id": "M2CcGmMLmuX4"
    },
    {
      "cell_type": "code",
      "source": [
        "a = (0.68 - 0.70)\n",
        "b = (0.990 - 0.988)\n",
        "TPR = 0.694\n",
        "\n",
        "k_694 = b/a * (TPR - 0.7) + 0.988\n",
        "\n",
        "error_TPR = TPR * 0.011\n",
        "k_694_errormas = b/a * (TPR + error_TPR - 0.7) + 0.988\n",
        "k_694_errormenos = b/a * (TPR - error_TPR - 0.7) + 0.988\n",
        "error_k_694 = abs(k_694_errormas - k_694_errormenos) / 2\n",
        "\n",
        "print(\"k_694 =\", k_694)\n",
        "print(\"error_k_694 =\", error_k_694)\n"
      ],
      "metadata": {
        "colab": {
          "base_uri": "https://localhost:8080/"
        },
        "id": "qaiPX1S3mTG7",
        "outputId": "2ee1eb4e-d1bd-47d9-c574-e661bef5192e"
      },
      "id": "qaiPX1S3mTG7",
      "execution_count": 1,
      "outputs": [
        {
          "output_type": "stream",
          "name": "stdout",
          "text": [
            "k_694 = 0.9886\n",
            "error_k_694 = 0.0007634000000000252\n"
          ]
        }
      ]
    },
    {
      "cell_type": "markdown",
      "source": [
        "Por lo tanto el factor de corrección de calibración de la cámara por la energía para el haz es: $k_{Q,Q_0}=0.9886 \\pm 0.0008$"
      ],
      "metadata": {
        "id": "2zRTHmVwphQ2"
      },
      "id": "2zRTHmVwphQ2"
    },
    {
      "cell_type": "markdown",
      "id": "86d9ba25-e6ee-49f3-97bb-1a294f4ab55b",
      "metadata": {
        "id": "86d9ba25-e6ee-49f3-97bb-1a294f4ab55b"
      },
      "source": [
        "## Módulo `simcaliblinac`\n",
        "Este cuaderno simula las condiciones variables de la medida mediante generadores aleatorios que siguen distribuciones realistas. Para realizar el ejercicio cada alumno generará y recogerá tanto las medidas como las condiciones en las que las ha realizado.\n",
        "\n",
        "El módulo `simcaliblinac` contiene las funciones para realizar esta simulación.\n",
        "\n",
        "```\n",
        "Nota: El código de este modulo se considera aún en desarrollo.\n",
        "Si al instalar el código aparecen mensajes de error o no es posible localizarlo escribir a cesaro02@ucm.es  \n",
        "```\n",
        "\n",
        "En la siguiente celda instalamos el paquete e importamos el módulo"
      ]
    },
    {
      "cell_type": "code",
      "execution_count": 2,
      "id": "cd59117b-bf7d-4624-b94c-6c37101269cb",
      "metadata": {
        "colab": {
          "base_uri": "https://localhost:8080/"
        },
        "id": "cd59117b-bf7d-4624-b94c-6c37101269cb",
        "outputId": "2e5f4cc8-45af-446f-a78e-64644bf6e5db"
      },
      "outputs": [
        {
          "output_type": "stream",
          "name": "stdout",
          "text": [
            "Looking in indexes: https://test.pypi.org/simple/\n",
            "Collecting simcaliblinac\n",
            "  Downloading https://test-files.pythonhosted.org/packages/77/26/4df373961d5fbb3e9e4fe530c5c1513051d3a34674cb815bc1827e8e0586/simcaliblinac-0.1.0-py3-none-any.whl.metadata (1.3 kB)\n",
            "Downloading https://test-files.pythonhosted.org/packages/77/26/4df373961d5fbb3e9e4fe530c5c1513051d3a34674cb815bc1827e8e0586/simcaliblinac-0.1.0-py3-none-any.whl (5.8 kB)\n",
            "Installing collected packages: simcaliblinac\n",
            "Successfully installed simcaliblinac-0.1.0\n"
          ]
        }
      ],
      "source": [
        "%pip install --index-url https://test.pypi.org/simple/ simcaliblinac\n",
        "import simcaliblinac.simcaliblinac as scl"
      ]
    },
    {
      "cell_type": "markdown",
      "id": "6890dc73-9349-4c09-a313-cb8e85d447f6",
      "metadata": {
        "id": "6890dc73-9349-4c09-a313-cb8e85d447f6"
      },
      "source": [
        "Tomar los valores de la presión atmosférica indicada por el barómetro del Servicio y de la temperatura medida por la sonda del termómetro que introducimos en el agua.\n",
        "\n",
        "Las unidades de las medidas son presión en hPa y temperatura en grados centígrados."
      ]
    },
    {
      "cell_type": "code",
      "execution_count": 3,
      "id": "4899f0fb-7bf8-4079-a86d-c7b6e0ab3722",
      "metadata": {
        "colab": {
          "base_uri": "https://localhost:8080/"
        },
        "id": "4899f0fb-7bf8-4079-a86d-c7b6e0ab3722",
        "outputId": "2aa16b11-5f25-4f6a-e8a8-7ce5a957f85f"
      },
      "outputs": [
        {
          "output_type": "stream",
          "name": "stdout",
          "text": [
            "Presión= [958.1]  hPa\n",
            "Temperatura= [22.9] ºC\n"
          ]
        }
      ],
      "source": [
        "presion, temperatura = scl.presion_temperatura_medida()\n",
        "print('Presión=', presion, ' hPa')\n",
        "print('Temperatura=',temperatura, 'ºC')"
      ]
    },
    {
      "cell_type": "markdown",
      "id": "9ffd66da-3e0b-4271-b676-3053be4c577f",
      "metadata": {
        "id": "9ffd66da-3e0b-4271-b676-3053be4c577f"
      },
      "source": [
        "El módulo `simcaliblinac` ofrece una función para calcular la corrección por presión y temperatura $\\phi$pT"
      ]
    },
    {
      "cell_type": "code",
      "execution_count": 4,
      "id": "b3e265e5-4726-4986-a03d-ef5d1ef93c22",
      "metadata": {
        "colab": {
          "base_uri": "https://localhost:8080/"
        },
        "id": "b3e265e5-4726-4986-a03d-ef5d1ef93c22",
        "outputId": "f6a24a18-231b-4ada-cf76-78938ac5d44b"
      },
      "outputs": [
        {
          "output_type": "stream",
          "name": "stdout",
          "text": [
            "Corr por presión y temperatura= [1.06775674]\n"
          ]
        }
      ],
      "source": [
        "ϕpT = scl.ϕpTf(presion, temperatura)\n",
        "print('Corr por presión y temperatura=', φpT)"
      ]
    },
    {
      "cell_type": "markdown",
      "id": "def44dca-3da2-41cb-8a2f-3faaf709aeda",
      "metadata": {
        "id": "def44dca-3da2-41cb-8a2f-3faaf709aeda"
      },
      "source": [
        "Una vez montados los equipos, fijadas las condiciones experimentales y con todas las conexiones realizadas, comenzamos por medir la lecutra del electrómetro cuando no hay radiación. En Radioterapia a este valor lo denominamos *corriente de fugas*. Es el equivalente a una lectura de un valor de fondo pero de origen diferente.\n",
        "\n",
        "Las fugas son de naturaleza aleatoria. Su valor medio se estima integrando durante un tiempo dado suficientemente largo como para promediar variaciones instantáneas.\n",
        "\n",
        "El módulo `simcaliblinac` expone un método para obtener una muestra de las fugas recolectadas durante un tiempo dado"
      ]
    },
    {
      "cell_type": "code",
      "execution_count": 5,
      "id": "4ef0ccd2-0378-40b4-849a-7206c4ddded0",
      "metadata": {
        "colab": {
          "base_uri": "https://localhost:8080/"
        },
        "id": "4ef0ccd2-0378-40b4-849a-7206c4ddded0",
        "outputId": "ad3487a3-896c-43d9-f5c0-d2d4690102cd"
      },
      "outputs": [
        {
          "output_type": "stream",
          "name": "stdout",
          "text": [
            "Fugas= [[0.17]] nC\n"
          ]
        }
      ],
      "source": [
        "fugas = scl.fugas(minutos=2)\n",
        "print('Fugas=', fugas, 'nC')"
      ]
    },
    {
      "cell_type": "markdown",
      "id": "ea526f99-92c3-4eec-98c4-0addd277da5c",
      "metadata": {
        "id": "ea526f99-92c3-4eec-98c4-0addd277da5c"
      },
      "source": [
        "Para hacer las medidas en el acelerador tenemos que fijar un número de unidades monitor nominales."
      ]
    },
    {
      "cell_type": "code",
      "execution_count": 6,
      "id": "f334c0d1-cd90-4e97-954a-bc1b09dfd48e",
      "metadata": {
        "id": "f334c0d1-cd90-4e97-954a-bc1b09dfd48e"
      },
      "outputs": [],
      "source": [
        "UM_nominales = 200"
      ]
    },
    {
      "cell_type": "markdown",
      "id": "85549a42-8f1e-4aef-81db-b4bca8974fd2",
      "metadata": {
        "id": "85549a42-8f1e-4aef-81db-b4bca8974fd2"
      },
      "source": [
        "El módulo `simcaliblinac` expone un método para obtener una muestra de **n** medidas con las unidades monitor fijadas. La tasa de UM fijada en el acelerador es de 600 UM/min. Usualmente se toma una muestra de tamaño tres, porque es la menor muestra que permite tomar una decisión sobre la coherencia de las medidas. Tres medidas permiten asegurar que no ha ocurrido nada anómalo al tomar los datos si ningún valor discrepa mucho de los otros dos."
      ]
    },
    {
      "cell_type": "code",
      "execution_count": 7,
      "id": "d991ccc1-dcf2-4b65-9abd-d2e73e6b9bd6",
      "metadata": {
        "colab": {
          "base_uri": "https://localhost:8080/"
        },
        "id": "d991ccc1-dcf2-4b65-9abd-d2e73e6b9bd6",
        "outputId": "39fe0532-a81b-441a-f04d-2c391323dead"
      },
      "outputs": [
        {
          "output_type": "stream",
          "name": "stdout",
          "text": [
            "Lecturas= [[35.71  35.719 35.722]] nC\n"
          ]
        }
      ],
      "source": [
        "lecturas = scl.lectura_medida_f(UM=UM_nominales, n=3)\n",
        "print('Lecturas=', lecturas, 'nC')"
      ]
    },
    {
      "cell_type": "markdown",
      "id": "8ba66946-0fb0-4029-ba47-c178c22a03d6",
      "metadata": {
        "id": "8ba66946-0fb0-4029-ba47-c178c22a03d6"
      },
      "source": [
        "Para calibrar el acelerador expresamos la medida de dosis en términos relativos a las unidades monitor, es decir, queremos saber cuánta dosis damos por unidad monitor. Por una decisión complemtamente arbitraria se suele ajustar la calibración para que en condiciones estándar una UM coincida con un centiGray. Este ajuste se realiza variando la ganancia de la cámaras monitoras. El cambio de la ganancia permite variar la lectura de la cámara aún recibiendo la misma dosis.\n",
        "\n",
        "## Cuestiones\n",
        "2. Determinar la dosis absorbida suministrada por el acelerador y el output.\n",
        "1. Hacer una estimación de la incertidumbre en la medida de la dosis absorbida y en la medida del output"
      ]
    },
    {
      "cell_type": "markdown",
      "source": [
        "Con respecto a la **cuestión 2**, para calcular la dosis absorbida suministrada por el acelerador primero debemos calcular la dosis suministrada por el acelerador, que se calcula con la siguiente expresión:\n",
        "$D_{w,Q}=M_QN_{D,w,Q_0}k_{Q,Q_0}k_{sat}k_{pol}$\n",
        "\n",
        "Donde en ella, $M_Q$ es la lectura neta del electrómetro en condiciones normales, y su expresión es:\n",
        "$M_Q=Φ_{pT}(M_{lectura}-M_{fugas})$\n",
        "\n",
        "En la parte de contribución de fugas se tiene en cuenta la tasa con la que se han realizado las medidas y el tiempo que ha llevado tomarlas.\n",
        "Sabiendo que el número de unidades monitor nominales en el acelerador es 200 UM, que el tiempo de las fugas recolectadas es de 2 minutos y que la tasa de unidades monitor en el acelerador son 600 UM/minuto. Así, corregimos las fugas con la siguiente expresión:\n",
        "$$M_{fugas}(200/600 min) = M_{fugas}(2 min)\\frac{200/600 min}{2 min}$$\n",
        "\n",
        "Donde $N_{D,w,Q_0}=(5.396 \\pm 0.001)·10^7$ Gy/C es el factor de calibración de la cámara en condiciones de referencia (ya nos viene especificada).\n",
        "\n",
        "En el que $k_{Q,Q_0}$ es el factor de corrección por la calidad del haz del factor de calibración: $k_{Q,Q_0}=0.989 \\pm 0.001$\n",
        "\n",
        "Y donde $k_{sat}$ y $k_{pol}$ son los factores de corrección por saturación de la cámara y de corrección por dependencia de la lectura de la cámara con la polarización de sus electrodos respectivamente. Sus valores son:\n",
        "$k_{sat}=1.000 \\pm 0001$ y $k_{pol}=1$. Este último adquiere ese valor ya que no se tiene en cuenta por el bajo efecto de la polarización.\n",
        "\n",
        "Conociendo ya todos estos valores calculamos la dosis absorbida por el acelerador:\n"
      ],
      "metadata": {
        "id": "QTx5CuFWr7Gg"
      },
      "id": "QTx5CuFWr7Gg"
    },
    {
      "cell_type": "code",
      "source": [
        "import numpy as np\n",
        "fugas = fugas*(200/600)/2\n",
        "M_Q = φpT*(lecturas-fugas)*(10**-9)\n",
        "N_DwQ0 = 5.396e7\n",
        "k_QQ0 = k_694\n",
        "k_sat = 1\n",
        "k_pol = 1\n",
        "\n",
        "D_wQ = M_Q*N_DwQ0*k_QQ0*k_sat*k_pol\n",
        "print('Dosis absorbida por el acelerador:', np.mean(D_wQ), 'Gy')"
      ],
      "metadata": {
        "colab": {
          "base_uri": "https://localhost:8080/"
        },
        "id": "8de1WqXEu64E",
        "outputId": "adca0ab2-f0a9-4573-8c18-41a53fc5d199"
      },
      "id": "8de1WqXEu64E",
      "execution_count": 8,
      "outputs": [
        {
          "output_type": "stream",
          "name": "stdout",
          "text": [
            "Dosis absorbida por el acelerador: 2.0328025248865607 Gy\n"
          ]
        }
      ]
    },
    {
      "cell_type": "markdown",
      "source": [
        "Y ahora calculamos la **dosis absorbida suministrada por el output**. Para ello hay que dividir la lectura neta del electrómetro en condiciones normales entre las unidades nominales:"
      ],
      "metadata": {
        "id": "of9K-6CZwjsa"
      },
      "id": "of9K-6CZwjsa"
    },
    {
      "cell_type": "code",
      "source": [
        "D_UM=D_wQ/UM_nominales*100\n",
        "print('Dosis absorbida por el output:', np.mean(D_UM), 'cGy')"
      ],
      "metadata": {
        "colab": {
          "base_uri": "https://localhost:8080/"
        },
        "id": "2dW3b3ztwz7q",
        "outputId": "626e9719-92d1-469a-8b3d-77d843b230cd"
      },
      "id": "2dW3b3ztwz7q",
      "execution_count": 9,
      "outputs": [
        {
          "output_type": "stream",
          "name": "stdout",
          "text": [
            "Dosis absorbida por el output: 1.0164012624432803 cGy\n"
          ]
        }
      ]
    },
    {
      "cell_type": "markdown",
      "source": [
        "Y ahora respecto a la **cuestión 3** en la que se nos pide hacer una estimación de la incertidumbre en la medida de la dosis absorbida y en la medida del output, se deben valorar los errores estadísticos y los errores de cada una de las variables que aparecen.\n",
        "\n",
        "Trataremos a continuación el caso de las variables, es decir, los errores que aparecen debido a ellas:\n",
        "\n",
        "Para ello, comenzamos con el error estadístico en el electrómetro, que aparece a partir de tres medidas tomadas, y se considera aleatorio:\n",
        "\n",
        "$$\n",
        "\\Delta M_{ale} = \\sqrt{\\frac{\\sum\\limits_{i=1}^{n} (M_i - \\overline{M})^2}{n(n-1)}}\n",
        "$$\n",
        "\n",
        "Donde $M_i$ es cada medida tomada, $\\overline{M}$ es la media de esas medidas, y n es el número de medidas tomadas."
      ],
      "metadata": {
        "id": "Br6UvF_UxDki"
      },
      "id": "Br6UvF_UxDki"
    },
    {
      "cell_type": "code",
      "source": [
        "DeltaMale=0\n",
        "for i in range(len(lecturas[0])):\n",
        "  DeltaMale+=(lecturas[0][i]-np.mean(lecturas[0]))**2/(len(lecturas[0])*(len(lecturas[0])-1))\n",
        "print(DeltaMale)"
      ],
      "metadata": {
        "id": "K5Y1-wZwwurA",
        "outputId": "e9989973-bfd7-47bd-c7f3-3e01538c5c03",
        "colab": {
          "base_uri": "https://localhost:8080/"
        }
      },
      "id": "K5Y1-wZwwurA",
      "execution_count": 10,
      "outputs": [
        {
          "output_type": "stream",
          "name": "stdout",
          "text": [
            "1.3000000000000985e-05\n"
          ]
        }
      ]
    },
    {
      "cell_type": "markdown",
      "source": [
        "Ahora, teniendo en cuenta que también hay un error sistemático que vale $ΔM_{sist}=0.001$ nC, calculamos el error total de lectura del electrómetro:\n",
        "$$\n",
        "\\Delta M_{total} = \\sqrt{\\Delta M_{ale}^{2} + \\Delta M_{sist}^{2}}\n",
        "$$\n"
      ],
      "metadata": {
        "id": "66XnRGqkxsQc"
      },
      "id": "66XnRGqkxsQc"
    },
    {
      "cell_type": "code",
      "source": [
        "DeltaMtotal=np.sqrt((0.001)**2+(DeltaMale)**2)\n",
        "print('M_total', round(np.mean(lecturas),3), '±', round(DeltaMtotal,3), 'nC')"
      ],
      "metadata": {
        "id": "lyyG-WOrzpRK",
        "outputId": "071dd4f6-0f56-4d39-f848-8315d77e0539",
        "colab": {
          "base_uri": "https://localhost:8080/"
        }
      },
      "id": "lyyG-WOrzpRK",
      "execution_count": 11,
      "outputs": [
        {
          "output_type": "stream",
          "name": "stdout",
          "text": [
            "M_total 35.717 ± 0.001 nC\n"
          ]
        }
      ]
    },
    {
      "cell_type": "markdown",
      "source": [
        "También hay **fugas en el electrómetro**, y esto se puede calcular de la siguiente manera:"
      ],
      "metadata": {
        "id": "0GoGgw2tyxed"
      },
      "id": "0GoGgw2tyxed"
    },
    {
      "cell_type": "code",
      "source": [
        "print('M_fugas=', round(np.mean(fugas),3), '±', 0.001, 'nC')"
      ],
      "metadata": {
        "id": "eLJKPC7d9_Iy",
        "outputId": "57285ea1-d9ac-4184-817e-0319adb86c94",
        "colab": {
          "base_uri": "https://localhost:8080/"
        }
      },
      "id": "eLJKPC7d9_Iy",
      "execution_count": 12,
      "outputs": [
        {
          "output_type": "stream",
          "name": "stdout",
          "text": [
            "M_fugas= 0.028 ± 0.001 nC\n"
          ]
        }
      ]
    },
    {
      "cell_type": "markdown",
      "source": [
        "Ahora ya para calcular el error de la dosis absorbidas, recordamos también los valores del factor de calibración de la cámara en condiciones de referencia ($N_{D,w,Q_0}$), y los factores de corrección ($k_{Q,Q_0}, k_{sat}$). Ya con toda esta información, calculamos el error de la dosis absorbida por las variables con las derivadas parciales de la siguiente expresión:\n",
        "$$\n",
        "D_{w,Q}=𝛷_{pT}(M_{total}-M_{fugas})N_{D,w,Q_0}k_{Q,Q_0}k_{sat}k_{pol}\n",
        "$$\n",
        "\n",
        "Que se calcula a continuación con el siguiente código:"
      ],
      "metadata": {
        "id": "v61mNCPq-sWE"
      },
      "id": "v61mNCPq-sWE"
    },
    {
      "cell_type": "code",
      "source": [
        "M_total=np.mean(lecturas)*(10**-9)\n",
        "DM_lecturas=DeltaMtotal*(10**-9)\n",
        "M_fugas=fugas[0]*(10**-9)\n",
        "DM_fugas=0.001*(10**-9)\n",
        "M_Q=φpT*(M_total-M_fugas)\n",
        "N_DwQ0=5.396e7\n",
        "DN_DwQ0=0.001e7\n",
        "k_QQ0=k_694\n",
        "Dk_QQ0=error_k_694\n",
        "k_sat = 1.000\n",
        "Dk_sat=0.001\n",
        "k_pol = 1\n",
        "D_wQ=M_Q*N_DwQ0*k_QQ0*k_sat*k_pol\n",
        "print(D_wQ)\n",
        "DeltaD_wQ=np.sqrt((φpT*N_DwQ0*k_QQ0*k_sat*k_pol*DM_lecturas)**2+(φpT*N_DwQ0*k_QQ0*k_sat*k_pol*DM_fugas)**2+(M_Q*k_QQ0*k_sat*k_pol*DN_DwQ0)**2+(M_Q*N_DwQ0*k_sat*k_pol*Dk_QQ0)**2+(M_Q*N_DwQ0*k_QQ0*k_pol*Dk_sat)**2)\n",
        "print(DeltaD_wQ)"
      ],
      "metadata": {
        "id": "VhD_XnfG_8cp",
        "outputId": "a5715fd5-45c0-4555-cc37-492da81bc8cb",
        "colab": {
          "base_uri": "https://localhost:8080/"
        }
      },
      "id": "VhD_XnfG_8cp",
      "execution_count": 13,
      "outputs": [
        {
          "output_type": "stream",
          "name": "stdout",
          "text": [
            "[2.03280252]\n",
            "[0.00259707]\n"
          ]
        }
      ]
    },
    {
      "cell_type": "markdown",
      "source": [
        "Entonces, la **dosis absorbida suministrada por el acelerador** es:"
      ],
      "metadata": {
        "id": "5m9is9NbBCZb"
      },
      "id": "5m9is9NbBCZb"
    },
    {
      "cell_type": "code",
      "source": [
        "print('D_wQ=', round(np.mean(D_wQ[0]),3), '±', round(DeltaD_wQ[0],3), 'Gy')"
      ],
      "metadata": {
        "id": "KEMfspMvBw1B",
        "outputId": "8292923a-e09a-40b3-ff6f-1d5c6791f1a9",
        "colab": {
          "base_uri": "https://localhost:8080/"
        }
      },
      "id": "KEMfspMvBw1B",
      "execution_count": 14,
      "outputs": [
        {
          "output_type": "stream",
          "name": "stdout",
          "text": [
            "D_wQ= 2.033 ± 0.003 Gy\n"
          ]
        }
      ]
    },
    {
      "cell_type": "markdown",
      "source": [
        "Para la **dosis absorbida suministrada por el output**, las unidades nominales no tienen error por construcción, y su incertidumbre entonces será:"
      ],
      "metadata": {
        "id": "aOsCt8873CFJ"
      },
      "id": "aOsCt8873CFJ"
    },
    {
      "cell_type": "code",
      "source": [
        "D_UM=D_wQ/UM_nominales*100\n",
        "DeltaD_UM=DeltaD_wQ/UM_nominales*100\n",
        "print(D_UM)\n",
        "print(DeltaD_UM)\n",
        "print('La dosis absorbida suministrada por el output D_UM:', round(np.mean(D_UM[0]),3),'±', round(DeltaD_UM[0],3), 'cGy')"
      ],
      "metadata": {
        "id": "taQmjrFo3I1_",
        "outputId": "2da55425-5984-4f31-a8ad-b12791572653",
        "colab": {
          "base_uri": "https://localhost:8080/"
        }
      },
      "id": "taQmjrFo3I1_",
      "execution_count": 15,
      "outputs": [
        {
          "output_type": "stream",
          "name": "stdout",
          "text": [
            "[1.01640126]\n",
            "[0.00129853]\n",
            "La dosis absorbida suministrada por el output D_UM: 1.016 ± 0.001 cGy\n"
          ]
        }
      ]
    },
    {
      "cell_type": "markdown",
      "id": "aa40aa91-ecbf-4921-9487-5fec693916eb",
      "metadata": {
        "id": "aa40aa91-ecbf-4921-9487-5fec693916eb"
      },
      "source": [
        "## Comprobaciones y simulaciones estadísticas"
      ]
    },
    {
      "cell_type": "markdown",
      "id": "02ba8dd5-7226-4bdb-ae95-1266b9dddea7",
      "metadata": {
        "id": "02ba8dd5-7226-4bdb-ae95-1266b9dddea7"
      },
      "source": [
        "En el Servicio de Radioterapia en el que estamos realizando estas medidas se tiene el criterio de recalibrar el acelerador, ajustar de nuevo las ganancias de las cámaras, si la variación del output respecto al valor nominal de 1 es mayor del 1.5%.\n",
        "\n",
        "En la teoría del control de calidad se distinguen dos conceptos: *tolerancia* e *incertidumbre*.\n",
        "- **Tolerancia**: Rango de la variable de control que daría lugar a resultados aceptables. Por ejemplo se consideran tolerables variaciones en la dosis final que reciben los pacientes inferiores al 5% porque no ha sido posible detectar diferencias clínicas en los resultados de tratamientos realizados con esas variaciones.\n",
        "\n",
        "- **Incertidumbre**: Rango en el que se espera se encuentre el valor *real* de una magnitud medida.\n",
        "\n",
        "En general se requiere que la variable de control se mida con una incertidumbre inferior a la tolerancia, idealmente incluso despreciable.\n",
        "\n",
        "El tratamiento combinado de  la tolerancia y la incertidumbre lleva al concepto de *nivel de acción*, como el umbral para el resultado del control que indica la necesidad de realizar alguna corrección.\n",
        "\n",
        "Dependiendo cuánto de crítico sea el resultado de nuestro control se definen dos posibles formas de situar el nivel de acción:\n",
        "- **Nivel de acción mayor que la tolerancia**: Se aumenta la tolerancia con la incertidumbre. Expandimos la tolerancia porque aceptamos que los resultados puedan salirse de tolerancia si hay una cierta probabilidad de que estén dentro de tolerancia por su incertidumbre. Por ejemplo si los radares de la DGT miden la velocidad con una incertidumbre del 4% (k=3) solo nos multan si miden que nuestra velocidad supera el límite señalado en más de un 4%. En un tramo a  120 km/h multan si miden más de 124.8 km/h porque de esa manera el 99% de los multados realmente iban a más de 120. Solo hay un 1% de probabilidad de recibir una multa injusta.\n",
        "- **Nivel de acción inferior la tolerancia**: Se reduce la tolerancia con la incertidumbre. Disminuimos la tolerancia porque no aceptamos los resultados que aunque se encuentren dentro de tolerancia tienen una cierta probabilidad de indicar un resultado fuera de tolerancia si se considera su incertidumbre. Por ejemplo si lo que medimos es la resistencia de una viga no podemos permitir medidas dudosas, aquí lo que hacemos es rechazar *de más*, queremos reducir la probabilidad de *falsos aceptados*.\n",
        "\n",
        "## Cuestiones\n",
        "4. **Sabiendo que en el Servicio de Radioterapia considerado se ha tomado el criterio de definir el nivel de acción mayor que la tolerancia responder razonadamente si es necesario ajustar las ganancias o no a la vista de los resultados obtenidos.**\n",
        "\n",
        "*Nota*: En esta cuestión se valorará positivamente que cada alumno compare sus resultados con otros compañeros de clase (idealmente con todos) y que discutan qué decisión toman sobre las ganancias.\n",
        "\n",
        "Según lo dicho en el propio enunciado, la variación del output respecto al valor nominal de 1, debería ser menor al $1.5\\%$. Esto hace que el rango en el que se mueve su valor será $0.985-1.015$\n",
        "cGy. Esto significará que el nivel de acción es mayor que la tolerancia, por lo tanto, si el acelerador está dentro de dicho intervalo, estará calibrado. En el caso de caer fuera de él estará descalibrado y habría que recalibrarlo. A continuación calculamos donde cae:\n"
      ]
    },
    {
      "cell_type": "code",
      "source": [
        "if (D_UM-DeltaD_UM)>=0.985 and (D_UM+DeltaD_UM)<=1.015:\n",
        "  print('D_UM=', round(np.mean(D_UM[0]),3), 'cGy. No es neccesario ajustar ganancias')\n",
        "else:\n",
        "  print('D_UM=', round(np.mean(D_UM[0]),3), '±', round(DeltaD_UM[0],3), 'cGy. Sí es necesario ajustar ganancias')"
      ],
      "metadata": {
        "id": "3dv4j0R42tN7",
        "outputId": "7a226de7-7b95-4314-fe7a-4838a4f044a8",
        "colab": {
          "base_uri": "https://localhost:8080/"
        }
      },
      "id": "3dv4j0R42tN7",
      "execution_count": 16,
      "outputs": [
        {
          "output_type": "stream",
          "name": "stdout",
          "text": [
            "D_UM= 1.016 ± 0.001 cGy. Sí es necesario ajustar ganancias\n"
          ]
        }
      ]
    },
    {
      "cell_type": "markdown",
      "source": [
        "Vemos que sale un valor mayor a 1.015, por lo que no está calibrado. A continuación lo comparamos con los resultados de los demás compañeros de clase:"
      ],
      "metadata": {
        "id": "0RZhf11i-eM1"
      },
      "id": "0RZhf11i-eM1"
    },
    {
      "cell_type": "markdown",
      "source": [
        "| Nombre                     | Output (cGy/UM) | Incertidumbre (cGy) | Error Relativo | Necesario ajustar ganancia |\n",
        "|----------------------------|----------------|---------------------|---------------|---------------------------|\n",
        "| Ignacio                    | 1.0130         | 0.00172841          | 1.299%        | NO                        |\n",
        "| Darío                      | 1.0130         | 0.011               | 1.300%        | NO                        |\n",
        "| Helena                     | 1.0130         | 0.0012              | 1.300%        | NO                        |\n",
        "| Ángela                     | 1.0108         | 0.00129148          | 1.083%        | NO                        |\n",
        "| Carlota                    | 1.0071         | 0.0013              | 0.710%        | NO                        |\n",
        "| Sara                       | 1.0118         | 0.00082             | 1.177%        | NO                        |\n",
        "| Tomás                      | 1.0164         | 0.01249             | 1.640%        | SI                        |\n",
        "| Umi                        | 1.0168         | 0.01113             | 1.680%        | SI                        |\n",
        "| Ruth                       | 1.0120         | 0.00143667          | 1.200%        | NO                        |\n",
        "| Sara FC                    | 1.0147         | 0.00201             | 1.472%        | NO                        |\n",
        "| Patri                      | 1.0160         | 0.0035              | 1.600%        | SI                        |\n",
        "| Gonzalo Pascual García     | 1.0093         | 0.0019              | 0.930%        | NO                        |\n",
        "| Germán                     | 1.0176         | 0.011293            | 1.756%        | SI                        |\n",
        "| Irene                      | 1.0111         | 0.001058            | 1.110%        | NO                        |\n",
        "| Samira                     | 1.0112         | 0.0014              | 1.120%        | NO                        |\n",
        "| Lucía                      | 1.0147         | 0.01122             | 1.470%        | NO                        |\n",
        "| Sofía                      | 1.0160         | 0.001               | 1.600%        | SI                        |\n"
      ],
      "metadata": {
        "id": "ttsRGzwd_STi"
      },
      "id": "ttsRGzwd_STi"
    },
    {
      "cell_type": "markdown",
      "source": [
        "De la lista de 17 personas, somos 5 los que nos sale fuera de la calibración. Entonces se saca la conclusión de que un $29,4\\%$ de los casos en diferentes condiciones ambientales, no cumplen estar dentro de los valores del nivel de acción mayor del acelerador. Por lo tanto, hay una cantidad mayor al $1\\%$ de los aceleradores que no entran dentro del nivel de acción mayor, por lo tanto, se debe recalibrar en general. Conseguir el $1\\%$ de los aceleradores no estén calibrados como máximo significaría que el $0.17\\%$ estuvieran fuera del rango, es decir, que ninguno lo estuviera. Como no es el caso, habría que recalibrar."
      ],
      "metadata": {
        "id": "ySCFyvFX_2NP"
      },
      "id": "ySCFyvFX_2NP"
    },
    {
      "cell_type": "markdown",
      "source": [
        "5. **Comparar las desviaciones estándar de nuestras medidas con la estimación de incertidumbres realizada en la cuestión 3. Si son diferentes comentar cómo se justifican esas diferencias.**\n",
        "\n"
      ],
      "metadata": {
        "id": "yRieeAtf2t0v"
      },
      "id": "yRieeAtf2t0v"
    },
    {
      "cell_type": "markdown",
      "source": [
        "### Simulaciones\n",
        "\n",
        "#### Teorema del límite central\n",
        "Las funciones del módulo `simcaliblinac` están preparadas para cambiar el tamaño de la muestra de medidas y repetir la toma de muestras tantas veces como queramos. El tamaño de la muestra se indica pasando el parámetro **n** y el número de experimentos pasando el parámetro **trials**.\n",
        "\n",
        "Ejecutando la siguiente celda obtenemos treinta muestras diferentes de cinco medidas cada una cuando fijamos 200 UM y lo almacenamos en el array de numpy muestras. Como resultado de la celda mostramos las dimensiones del array."
      ],
      "metadata": {
        "id": "0EgEa05tEh5L"
      },
      "id": "0EgEa05tEh5L"
    },
    {
      "cell_type": "code",
      "execution_count": null,
      "id": "227d3d17-adce-40b3-8423-c00028e8cef0",
      "metadata": {
        "id": "227d3d17-adce-40b3-8423-c00028e8cef0"
      },
      "outputs": [],
      "source": [
        "sample_size=5\n",
        "trial_number=30\n",
        "muestras = scl.lectura_medida_f(UM=UM_nominales, n=sample_size, trials=trial_number)\n",
        "muestras.shape"
      ]
    },
    {
      "cell_type": "markdown",
      "id": "b65d555e-f6d4-44ef-9fd3-242cf10b54bf",
      "metadata": {
        "id": "b65d555e-f6d4-44ef-9fd3-242cf10b54bf"
      },
      "source": [
        "Si queremos mostrar el contenido de muestras ejecutamos esta celda"
      ]
    },
    {
      "cell_type": "code",
      "execution_count": null,
      "id": "7b54d4db-ba63-4c0f-8523-9a61caace881",
      "metadata": {
        "id": "7b54d4db-ba63-4c0f-8523-9a61caace881"
      },
      "outputs": [],
      "source": [
        "muestras"
      ]
    },
    {
      "cell_type": "markdown",
      "id": "d8cb73b2-a944-45a2-8a07-07d6413271d6",
      "metadata": {
        "id": "d8cb73b2-a944-45a2-8a07-07d6413271d6"
      },
      "source": [
        "Podemos calcular estádisticas del total de la muestra"
      ]
    },
    {
      "cell_type": "code",
      "execution_count": null,
      "id": "cfb59ec0-8919-4d2e-963b-6adcd89462f5",
      "metadata": {
        "id": "cfb59ec0-8919-4d2e-963b-6adcd89462f5"
      },
      "outputs": [],
      "source": [
        "muestras.mean(), muestras.std()"
      ]
    },
    {
      "cell_type": "markdown",
      "id": "3094ac21-b26c-47d4-8433-379618f11a95",
      "metadata": {
        "id": "3094ac21-b26c-47d4-8433-379618f11a95"
      },
      "source": [
        "Podemos construir una colección con las medias y desviaciones estándar de cada experimento"
      ]
    },
    {
      "cell_type": "code",
      "execution_count": null,
      "id": "a9f876bb-7cd5-4748-8400-2e20f874e15c",
      "metadata": {
        "id": "a9f876bb-7cd5-4748-8400-2e20f874e15c"
      },
      "outputs": [],
      "source": [
        "muestras_distribucion_medias = muestras.mean(axis=1)\n",
        "muestras_distribucion_sigmas = muestras.std(axis=1, ddof=1)\n",
        "\n",
        "# Mostrar las muestras de ambas ditribuciones\n",
        "muestras_distribucion_medias, muestras_distribucion_sigmas"
      ]
    },
    {
      "cell_type": "markdown",
      "id": "728d1859-84ce-4c8d-8546-09c137d7ed6a",
      "metadata": {
        "id": "728d1859-84ce-4c8d-8546-09c137d7ed6a"
      },
      "source": [
        "## Cuestión\n",
        "6. Mostrar numéricamente que se verifica el teorema del límite central, es decir, que la media de las muestras de la distribución de medias es la misma que la media de todas las medidas y que dentro de incertidumbres muestrales el valor esperado de la sigma de la distribución de medias es la sigma de la distrubución total dividida por la raíz cuadrada del tamaño de la muestra"
      ]
    },
    {
      "cell_type": "markdown",
      "id": "ac701a73-49b5-4632-9f02-6ea4f90bcdbb",
      "metadata": {
        "id": "ac701a73-49b5-4632-9f02-6ea4f90bcdbb"
      },
      "source": [
        "## Cuestiones\n",
        "\n",
        "7. Hacer una gráfica de la razón entre la desviación estándar de la distribución de medias y la sigma de la distrubución total en función del número de experimientos. Discutir si tiene un comportamiento asintótico y en su caso indicar a qué valor tiende.\n",
        "\n",
        "**Sugerencia**: Juntar el código mostrado en las celdas anteriores para definir una función dependiente del número de experimentos que devuelva la razón entre la media de la distrubución de sigmas y la sigma de la distrubución total. Generar un rango de número de experimentos, pasárselo a la función y hacer la gráfica.\n",
        "\n",
        "8. Hacer una gráfica de la razón entre la media de la distrubución de sigmas y la sigma de la distrubución total en función del tamaño de la muestra. Analizar la importancia del parametro `ddof` para evitar el sesgo por el tamaño de la muestra. Ver la documentación de la función [numpy.std](https://numpy.org/doc/stable/reference/generated/numpy.std.html)\n",
        "\n",
        "**Sugerencia**: Juntar el código mostrado en las celdas anteriores para definir una función dependiente del tamaño de la muestra que devuelva la razón pedida."
      ]
    },
    {
      "cell_type": "markdown",
      "id": "fbf1c3a4-034f-445a-9ca0-bb677ebc5ae6",
      "metadata": {
        "id": "fbf1c3a4-034f-445a-9ca0-bb677ebc5ae6"
      },
      "source": [
        "### Cálculo de incertidumbre\n",
        "Una estimación realista de incertidumbres necesita en general incorporar el conocimiento del experimentador sobre la reproducibilidad de sus aparatos de medida. Son lo que se conoce como **incertidumbres de tipo B** que permiten estimar las sigmas de las distribuciones que siguen los elementos que participan en la medida.\n",
        "\n",
        "La propagación de estas incertidumbres se puede hacer mediante aproximaciones analíticas, pero en casos complejos estos cálculos se pueden ver limitados por emplear solo aproximaciones de primer orden y por ignorar las covarianzas entre variables.\n",
        "\n",
        "Una alternativa es emplear técnicas de Monte Carlo. Se pueden muestrear los valores de los elementos que intervienen en la medida si se conocen las distribuciones que siguen y se estiman sus sigmas. Combinando estos valores muestreados mediante la expresión física de la magnitud medida obtenemos una muestra de medidas cuya sigma es la incertidumbre que queremos determinar.\n",
        "\n",
        "## Cuestión.\n",
        "\n",
        "9. Hacer una estimación de incertidumbres mediante técnicas de Monte Carlo\n",
        "\n",
        "**Sugerencia**:  Utilizar las funciones del módulo `simcaliblinac` para hacer experimentos de calibración en los que se obtiene en cada uno de ellos una medida de fugas, una medida de presión y temperatura y la correspondiente muestra de lecturas en el acelerador."
      ]
    },
    {
      "cell_type": "code",
      "execution_count": null,
      "id": "17e4d96b-c06e-49f1-a41d-d698c92a42e0",
      "metadata": {
        "id": "17e4d96b-c06e-49f1-a41d-d698c92a42e0"
      },
      "outputs": [],
      "source": []
    }
  ],
  "metadata": {
    "kernelspec": {
      "display_name": "Python 3 (ipykernel)",
      "language": "python",
      "name": "python3"
    },
    "language_info": {
      "codemirror_mode": {
        "name": "ipython",
        "version": 3
      },
      "file_extension": ".py",
      "mimetype": "text/x-python",
      "name": "python",
      "nbconvert_exporter": "python",
      "pygments_lexer": "ipython3",
      "version": "3.9.7"
    },
    "colab": {
      "provenance": []
    }
  },
  "nbformat": 4,
  "nbformat_minor": 5
}