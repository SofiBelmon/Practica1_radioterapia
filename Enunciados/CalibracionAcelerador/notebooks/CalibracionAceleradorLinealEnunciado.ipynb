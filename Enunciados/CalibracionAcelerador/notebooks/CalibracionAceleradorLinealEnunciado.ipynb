{
  "cells": [
    {
      "cell_type": "markdown",
      "id": "bed28c1d-6cf8-4edf-a73b-19b94666d0fa",
      "metadata": {
        "id": "bed28c1d-6cf8-4edf-a73b-19b94666d0fa"
      },
      "source": [
        "#### Física de la Radioterapia. Master de Física Biomédica. Universidad Complutense de Madrid\n",
        "# Calibración del acelerador lineal\n",
        "## Haces de fotones medidos en condiciones de referencia\n",
        "-----\n",
        "\n",
        "**Objetivos**:\n",
        "Determinar la dosis absorbida producida por un campo de radiación en condiciones estándar de calibración utilizando una cámara de ionización tipo Farmer y aplicando el [protocolo de dosimetría de la IAEA TRS398](https://www-pub.iaea.org/MTCD/publications/PDF/TRS_398s_Web.pdf). Se recomienda leer al menos el epígrafe **3. FORMALISMO BASADO EN** $N_{D,w}$ del protocolo.\n",
        "\n",
        "**Antecendentes**: De acuerdo al TRS398 la magnitud $D_{w, Q}$, dosis en agua para la calidad de la radiación $Q$, se puede determinar mediante la expresión\n",
        "\n",
        "\\begin{equation}\n",
        "    D_{w, Q} = M_Q\\;N_{D, w, Q_0}\\;k_{Q, Q_0}\\;k_{sat}\\;k_{pol}.\n",
        "\\end{equation}\n",
        "\n",
        "donde:\n",
        "- $M_Q$ es la lectura neta del electrómetro expresado en condiciones normales\n",
        "- $N_{D, w, Q_0}$ es el valor del factor de calibración de la cámara en condiciones de referencia\n",
        "- $k_{Q, Q_0}$ es el factor de corrección por la calidad del haz del factor de calibración\n",
        "- $k_{sat}$ es el factor de corrección por saturación de la cámara\n",
        "- $k_{pol}$ es factor de corrección por dependencia de la lectura de la cámara con la polarización de sus electrodos\n",
        "\n",
        "**Datos**:\n",
        "Los datos de la cámara empleada están recogidos en su [certificado de calibración](https://raw.githubusercontent.com/csarux/TutorialesFisicaRadioterapia/main/Enunciados/CalibracionAcelerador/docs/CamaraFarmer10820.pdf)\n",
        "\n",
        "Previamente se ha determinado que para esta cámara los factores de corrección por saturación $k_{sat}$ y por polarización $k_{pol}$ son ambos igual a uno en las condiciones de medida consideradas.\n",
        "\n",
        "La energía del haz empleado corresponde a una razón TPR${}_{20, 10} = 0.694$.\n",
        "\n",
        "Para recolectar la carga producida en la cámara se utiliza un electrómetro con una resolución de $0.001$ nC.\n",
        "\n",
        "## Cuestión\n",
        "1. **Obtener de los datos del TRS398 el factor de corrección de la calibración de la cámara por la energía para el haz utilizado.**\n",
        "\n",
        "**Ayuda:** Consultar el CUADRO 14 página 85."
      ]
    },
    {
      "cell_type": "markdown",
      "source": [
        "La calidad del haz es TPR=0.694. Para obtener un ajuste bastante adecuado le damos a TPR unos valores entre 0.68 y 0.70.\n",
        "\n",
        "También calculamos el error utilizando la incertidumbre que se da en el certificado de calibración (1,1%):"
      ],
      "metadata": {
        "id": "M2CcGmMLmuX4"
      },
      "id": "M2CcGmMLmuX4"
    },
    {
      "cell_type": "code",
      "source": [
        "a = (0.68 - 0.70)\n",
        "b = (0.990 - 0.988)\n",
        "TPR = 0.694\n",
        "\n",
        "k_694 = b/a * (TPR - 0.7) + 0.988\n",
        "\n",
        "error_TPR = TPR * 0.011\n",
        "k_694_errormas = b/a * (TPR + error_TPR - 0.7) + 0.988\n",
        "k_694_errormenos = b/a * (TPR - error_TPR - 0.7) + 0.988\n",
        "error_k_694 = abs(k_694_errormas - k_694_errormenos) / 2\n",
        "\n",
        "print(\"k_694 =\", k_694)\n",
        "print(\"error_k_694 =\", error_k_694)\n"
      ],
      "metadata": {
        "colab": {
          "base_uri": "https://localhost:8080/"
        },
        "id": "qaiPX1S3mTG7",
        "outputId": "78556953-4dd9-4f84-bac0-bc9501a8aff6"
      },
      "id": "qaiPX1S3mTG7",
      "execution_count": 2,
      "outputs": [
        {
          "output_type": "stream",
          "name": "stdout",
          "text": [
            "k_694 = 0.9886\n",
            "error_k_694 = 0.0007634000000000252\n"
          ]
        }
      ]
    },
    {
      "cell_type": "markdown",
      "source": [
        "Por lo tanto el factor de corrección de calibración de la cámara por la energía para el haz es: $k_{Q,Q_0}=0.9886 \\pm 0.0008$"
      ],
      "metadata": {
        "id": "2zRTHmVwphQ2"
      },
      "id": "2zRTHmVwphQ2"
    },
    {
      "cell_type": "markdown",
      "id": "86d9ba25-e6ee-49f3-97bb-1a294f4ab55b",
      "metadata": {
        "id": "86d9ba25-e6ee-49f3-97bb-1a294f4ab55b"
      },
      "source": [
        "## Módulo `simcaliblinac`\n",
        "Este cuaderno simula las condiciones variables de la medida mediante generadores aleatorios que siguen distribuciones realistas. Para realizar el ejercicio cada alumno generará y recogerá tanto las medidas como las condiciones en las que las ha realizado.\n",
        "\n",
        "El módulo `simcaliblinac` contiene las funciones para realizar esta simulación.\n",
        "\n",
        "```\n",
        "Nota: El código de este modulo se considera aún en desarrollo.\n",
        "Si al instalar el código aparecen mensajes de error o no es posible localizarlo escribir a cesaro02@ucm.es  \n",
        "```\n",
        "\n",
        "En la siguiente celda instalamos el paquete e importamos el módulo"
      ]
    },
    {
      "cell_type": "code",
      "execution_count": 3,
      "id": "cd59117b-bf7d-4624-b94c-6c37101269cb",
      "metadata": {
        "colab": {
          "base_uri": "https://localhost:8080/"
        },
        "id": "cd59117b-bf7d-4624-b94c-6c37101269cb",
        "outputId": "18cc18e5-5e59-43d1-a56b-aa31e0a50b2b"
      },
      "outputs": [
        {
          "output_type": "stream",
          "name": "stdout",
          "text": [
            "Looking in indexes: https://test.pypi.org/simple/\n",
            "Collecting simcaliblinac\n",
            "  Downloading https://test-files.pythonhosted.org/packages/77/26/4df373961d5fbb3e9e4fe530c5c1513051d3a34674cb815bc1827e8e0586/simcaliblinac-0.1.0-py3-none-any.whl.metadata (1.3 kB)\n",
            "Downloading https://test-files.pythonhosted.org/packages/77/26/4df373961d5fbb3e9e4fe530c5c1513051d3a34674cb815bc1827e8e0586/simcaliblinac-0.1.0-py3-none-any.whl (5.8 kB)\n",
            "Installing collected packages: simcaliblinac\n",
            "Successfully installed simcaliblinac-0.1.0\n"
          ]
        }
      ],
      "source": [
        "%pip install --index-url https://test.pypi.org/simple/ simcaliblinac\n",
        "import simcaliblinac.simcaliblinac as scl"
      ]
    },
    {
      "cell_type": "markdown",
      "id": "6890dc73-9349-4c09-a313-cb8e85d447f6",
      "metadata": {
        "id": "6890dc73-9349-4c09-a313-cb8e85d447f6"
      },
      "source": [
        "Tomar los valores de la presión atmosférica indicada por el barómetro del Servicio y de la temperatura medida por la sonda del termómetro que introducimos en el agua.\n",
        "\n",
        "Las unidades de las medidas son presión en hPa y temperatura en grados centígrados."
      ]
    },
    {
      "cell_type": "code",
      "execution_count": 4,
      "id": "4899f0fb-7bf8-4079-a86d-c7b6e0ab3722",
      "metadata": {
        "colab": {
          "base_uri": "https://localhost:8080/"
        },
        "id": "4899f0fb-7bf8-4079-a86d-c7b6e0ab3722",
        "outputId": "81d319ce-770a-43be-fbe2-a1210503804f"
      },
      "outputs": [
        {
          "output_type": "stream",
          "name": "stdout",
          "text": [
            "Presión= [959.9]  hPa\n",
            "Temperatura= [22.1] ºC\n"
          ]
        }
      ],
      "source": [
        "presion, temperatura = scl.presion_temperatura_medida()\n",
        "print('Presión=', presion, ' hPa')\n",
        "print('Temperatura=',temperatura, 'ºC')"
      ]
    },
    {
      "cell_type": "markdown",
      "id": "9ffd66da-3e0b-4271-b676-3053be4c577f",
      "metadata": {
        "id": "9ffd66da-3e0b-4271-b676-3053be4c577f"
      },
      "source": [
        "El módulo `simcaliblinac` ofrece una función para calcular la corrección por presión y temperatura $\\phi$pT"
      ]
    },
    {
      "cell_type": "code",
      "execution_count": 5,
      "id": "b3e265e5-4726-4986-a03d-ef5d1ef93c22",
      "metadata": {
        "colab": {
          "base_uri": "https://localhost:8080/"
        },
        "id": "b3e265e5-4726-4986-a03d-ef5d1ef93c22",
        "outputId": "b1714e1c-6e3d-42a2-8d85-9bb59fa33b82"
      },
      "outputs": [
        {
          "output_type": "stream",
          "name": "stdout",
          "text": [
            "Corr por presión y temperatura= [1.06287553]\n"
          ]
        }
      ],
      "source": [
        "ϕpT = scl.ϕpTf(presion, temperatura)\n",
        "print('Corr por presión y temperatura=', φpT)"
      ]
    },
    {
      "cell_type": "markdown",
      "id": "def44dca-3da2-41cb-8a2f-3faaf709aeda",
      "metadata": {
        "id": "def44dca-3da2-41cb-8a2f-3faaf709aeda"
      },
      "source": [
        "Una vez montados los equipos, fijadas las condiciones experimentales y con todas las conexiones realizadas, comenzamos por medir la lecutra del electrómetro cuando no hay radiación. En Radioterapia a este valor lo denominamos *corriente de fugas*. Es el equivalente a una lectura de un valor de fondo pero de origen diferente.\n",
        "\n",
        "Las fugas son de naturaleza aleatoria. Su valor medio se estima integrando durante un tiempo dado suficientemente largo como para promediar variaciones instantáneas.\n",
        "\n",
        "El módulo `simcaliblinac` expone un método para obtener una muestra de las fugas recolectadas durante un tiempo dado"
      ]
    },
    {
      "cell_type": "code",
      "execution_count": 6,
      "id": "4ef0ccd2-0378-40b4-849a-7206c4ddded0",
      "metadata": {
        "colab": {
          "base_uri": "https://localhost:8080/"
        },
        "id": "4ef0ccd2-0378-40b4-849a-7206c4ddded0",
        "outputId": "06454f7c-afb6-4cca-f6b5-d6a0ec1a2415"
      },
      "outputs": [
        {
          "output_type": "stream",
          "name": "stdout",
          "text": [
            "Fugas= [[0.149]] nC\n"
          ]
        }
      ],
      "source": [
        "fugas = scl.fugas(minutos=2)\n",
        "print('Fugas=', fugas, 'nC')"
      ]
    },
    {
      "cell_type": "markdown",
      "id": "ea526f99-92c3-4eec-98c4-0addd277da5c",
      "metadata": {
        "id": "ea526f99-92c3-4eec-98c4-0addd277da5c"
      },
      "source": [
        "Para hacer las medidas en el acelerador tenemos que fijar un número de unidades monitor nominales."
      ]
    },
    {
      "cell_type": "code",
      "execution_count": 7,
      "id": "f334c0d1-cd90-4e97-954a-bc1b09dfd48e",
      "metadata": {
        "id": "f334c0d1-cd90-4e97-954a-bc1b09dfd48e"
      },
      "outputs": [],
      "source": [
        "UM_nominales = 200"
      ]
    },
    {
      "cell_type": "markdown",
      "id": "85549a42-8f1e-4aef-81db-b4bca8974fd2",
      "metadata": {
        "id": "85549a42-8f1e-4aef-81db-b4bca8974fd2"
      },
      "source": [
        "El módulo `simcaliblinac` expone un método para obtener una muestra de **n** medidas con las unidades monitor fijadas. La tasa de UM fijada en el acelerador es de 600 UM/min. Usualmente se toma una muestra de tamaño tres, porque es la menor muestra que permite tomar una decisión sobre la coherencia de las medidas. Tres medidas permiten asegurar que no ha ocurrido nada anómalo al tomar los datos si ningún valor discrepa mucho de los otros dos."
      ]
    },
    {
      "cell_type": "code",
      "execution_count": 8,
      "id": "d991ccc1-dcf2-4b65-9abd-d2e73e6b9bd6",
      "metadata": {
        "colab": {
          "base_uri": "https://localhost:8080/"
        },
        "id": "d991ccc1-dcf2-4b65-9abd-d2e73e6b9bd6",
        "outputId": "9c2464d9-43aa-4442-8b78-8f3cb9ed5413"
      },
      "outputs": [
        {
          "output_type": "stream",
          "name": "stdout",
          "text": [
            "Lecturas= [[35.861 35.782 35.821]] nC\n"
          ]
        }
      ],
      "source": [
        "lecturas = scl.lectura_medida_f(UM=UM_nominales, n=3)\n",
        "print('Lecturas=', lecturas, 'nC')"
      ]
    },
    {
      "cell_type": "markdown",
      "id": "8ba66946-0fb0-4029-ba47-c178c22a03d6",
      "metadata": {
        "id": "8ba66946-0fb0-4029-ba47-c178c22a03d6"
      },
      "source": [
        "Para calibrar el acelerador expresamos la medida de dosis en términos relativos a las unidades monitor, es decir, queremos saber cuánta dosis damos por unidad monitor. Por una decisión complemtamente arbitraria se suele ajustar la calibración para que en condiciones estándar una UM coincida con un centiGray. Este ajuste se realiza variando la ganancia de la cámaras monitoras. El cambio de la ganancia permite variar la lectura de la cámara aún recibiendo la misma dosis.\n",
        "\n",
        "## Cuestiones\n",
        "2. Determinar la dosis absorbida suministrada por el acelerador y el output.\n",
        "1. Hacer una estimación de la incertidumbre en la medida de la dosis absorbida y en la medida del output"
      ]
    },
    {
      "cell_type": "markdown",
      "source": [
        "Con respecto a la cuestión 2, para calcular la dosis absorbida suministrada por el acelerador primero debemos calcular la dosis suministrada por el acelerador, que se calcula con la siguiente expresión:\n",
        "$D_{w,Q}=M_QN_{D,w,Q_0}k_{Q,Q_0}k_{sat}k_{pol}$\n",
        "\n",
        "Donde en ella, $M_Q$ es la lectura neta del electrómetro en condiciones normales, y su expresión es:\n",
        "$M_Q=Φ_{pT}(M_{lectura}-M_{fugas})$\n",
        "\n",
        "En la parte de contribución de fugas se tiene en cuenta la tasa con la que se han realizado las medidas y el tiempo que ha llevado tomarlas.\n",
        "Sabiendo que el número de unidades monitor nominales en el acelerador es 200 UM, que el tiempo de las fugas recolectadas es de 2 minutos y que la tasa de unidades monitor en el acelerador son 600 UM/minuto. Así, corregimos las fugas con la siguiente expresión:\n",
        "$$M_{fugas}(200/600 min) = M_{fugas}(2 min)\\frac{200/600 min}{2 min}$$\n",
        "\n",
        "Donde $N_{D,w,Q_0}=(5.396 \\pm 0.001)·10^7$ Gy/C es el factor de calibración de la cámara en condiciones de referencia (ya nos viene especificada).\n",
        "\n",
        "En el que $k_{Q,Q_0}$ es el factor de corrección por la calidad del haz del factor de calibración: $k_{Q,Q_0}=0.989 \\pm 0.001$\n",
        "\n",
        "Y donde $k_{sat}$ y $k_{pol}$ son los factores de corrección por saturación de la cámara y de corrección por dependencia de la lectura de la cámara con la polarización de sus electrodos respectivamente. Sus valores son:\n",
        "$k_{sat}=1.000 \\pm 0001$ y $k_{pol}=1$. Este último adquiere ese valor ya que no se tiene en cuenta por el bajo efecto de la polarización.\n",
        "\n",
        "Conociendo ya todos estos valores calculamos la dosis absorbida por el acelerador:\n"
      ],
      "metadata": {
        "id": "QTx5CuFWr7Gg"
      },
      "id": "QTx5CuFWr7Gg"
    },
    {
      "cell_type": "code",
      "source": [
        "import numpy as np\n",
        "fugas = fugas*(200/600)/2\n",
        "M_Q = φpT*(lecturas-fugas)*(10**-9)\n",
        "N_DwQ0 = 5.396e7\n",
        "k_QQ0 = k_694\n",
        "k_sat = 1\n",
        "k_pol = 1\n",
        "\n",
        "D_wQ = M_Q*N_DwQ0*k_QQ0*k_sat*k_pol\n",
        "print('Dosis absorbida por el acelerador:', np.mean(D_wQ), 'Gy')"
      ],
      "metadata": {
        "id": "8de1WqXEu64E",
        "outputId": "713f609e-975f-4136-c920-ca97ee31f5c5",
        "colab": {
          "base_uri": "https://localhost:8080/"
        }
      },
      "id": "8de1WqXEu64E",
      "execution_count": 9,
      "outputs": [
        {
          "output_type": "stream",
          "name": "stdout",
          "text": [
            "Dosis absorbida por el acelerador: 2.029623678077318 Gy\n"
          ]
        }
      ]
    },
    {
      "cell_type": "markdown",
      "source": [
        "Y ahora calculamos la **dosis absorbida suministrada por el output**. Para ello hay que dividir la lectura neta del electrómetro en condiciones normales entre las unidades nominales:"
      ],
      "metadata": {
        "id": "of9K-6CZwjsa"
      },
      "id": "of9K-6CZwjsa"
    },
    {
      "cell_type": "code",
      "source": [
        "D_UM=D_wQ/UM_nominales*100\n",
        "print('Dosis absorbida por el output:', np.mean(D_UM), 'cGy')"
      ],
      "metadata": {
        "id": "2dW3b3ztwz7q",
        "outputId": "561ee9d3-a2de-4d88-da8d-3a716b978df1",
        "colab": {
          "base_uri": "https://localhost:8080/"
        }
      },
      "id": "2dW3b3ztwz7q",
      "execution_count": 10,
      "outputs": [
        {
          "output_type": "stream",
          "name": "stdout",
          "text": [
            "Dosis absorbida por el output: 1.014811839038659 cGy\n"
          ]
        }
      ]
    },
    {
      "cell_type": "markdown",
      "source": [
        "Y ahora respecto a la cuestión 3 en la que se nos pide hacer una estimación de la incertidumbre en la medida de la dosis absorbida y en la medida del output, se deben valorar los errores estadísticos y los errores de cada una de las variables que aparecen."
      ],
      "metadata": {
        "id": "Br6UvF_UxDki"
      },
      "id": "Br6UvF_UxDki"
    },
    {
      "cell_type": "markdown",
      "id": "aa40aa91-ecbf-4921-9487-5fec693916eb",
      "metadata": {
        "id": "aa40aa91-ecbf-4921-9487-5fec693916eb"
      },
      "source": [
        "## Comprobaciones y simulaciones estadísticas"
      ]
    },
    {
      "cell_type": "markdown",
      "id": "02ba8dd5-7226-4bdb-ae95-1266b9dddea7",
      "metadata": {
        "id": "02ba8dd5-7226-4bdb-ae95-1266b9dddea7"
      },
      "source": [
        "En el Servicio de Radioterapia en el que estamos realizando estas medidas se tiene el criterio de recalibrar el acelerador, ajustar de nuevo las ganancias de las cámaras, si la variación del output respecto al valor nominal de 1 es mayor del 1.5%.\n",
        "\n",
        "En la teoría del control de calidad se distinguen dos conceptos: *tolerancia* e *incertidumbre*.\n",
        "- **Tolerancia**: Rango de la variable de control que daría lugar a resultados aceptables. Por ejemplo se consideran tolerables variaciones en la dosis final que reciben los pacientes inferiores al 5% porque no ha sido posible detectar diferencias clínicas en los resultados de tratamientos realizados con esas variaciones.\n",
        "\n",
        "- **Incertidumbre**: Rango en el que se espera se encuentre el valor *real* de una magnitud medida.\n",
        "\n",
        "En general se requiere que la variable de control se mida con una incertidumbre inferior a la tolerancia, idealmente incluso despreciable.\n",
        "\n",
        "El tratamiento combinado de  la tolerancia y la incertidumbre lleva al concepto de *nivel de acción*, como el umbral para el resultado del control que indica la necesidad de realizar alguna corrección.\n",
        "\n",
        "Dependiendo cuánto de crítico sea el resultado de nuestro control se definen dos posibles formas de situar el nivel de acción:\n",
        "- **Nivel de acción mayor que la tolerancia**: Se aumenta la tolerancia con la incertidumbre. Expandimos la tolerancia porque aceptamos que los resultados puedan salirse de tolerancia si hay una cierta probabilidad de que estén dentro de tolerancia por su incertidumbre. Por ejemplo si los radares de la DGT miden la velocidad con una incertidumbre del 4% (k=3) solo nos multan si miden que nuestra velocidad supera el límite señalado en más de un 4%. En un tramo a  120 km/h multan si miden más de 124.8 km/h porque de esa manera el 99% de los multados realmente iban a más de 120. Solo hay un 1% de probabilidad de recibir una multa injusta.\n",
        "- **Nivel de acción inferior la tolerancia**: Se reduce la tolerancia con la incertidumbre. Disminuimos la tolerancia porque no aceptamos los resultados que aunque se encuentren dentro de tolerancia tienen una cierta probabilidad de indicar un resultado fuera de tolerancia si se considera su incertidumbre. Por ejemplo si lo que medimos es la resistencia de una viga no podemos permitir medidas dudosas, aquí lo que hacemos es rechazar *de más*, queremos reducir la probabilidad de *falsos aceptados*.\n",
        "\n",
        "## Cuestiones\n",
        "4. Sabiendo que en el Servicio de Radioterapia considerado se ha tomado el criterio de definir el nivel de acción mayor que la tolerancia responder razonadamente si es necesario ajustar las ganancias o no a la vista de los resultados obtenidos.\n",
        "\n",
        "*Nota*: En esta cuestión se valorará positivamente que cada alumno compare sus resultados con otros compañeros de clase (idealmente con todos) y que discutan qué decisión toman sobre las ganancias.\n",
        "\n",
        "5. Comparar las desviaciones estándar de nuestras medidas con la estimación de incertidumbres realizada en la cuestión 3. Si son diferentes comentar cómo se justifican esas diferencias.\n",
        "\n",
        "### Simulaciones\n",
        "\n",
        "#### Teorema del límite central\n",
        "Las funciones del módulo `simcaliblinac` están preparadas para cambiar el tamaño de la muestra de medidas y repetir la toma de muestras tantas veces como queramos. El tamaño de la muestra se indica pasando el parámetro **n** y el número de experimentos pasando el parámetro **trials**.\n",
        "\n",
        "Ejecutando la siguiente celda obtenemos treinta muestras diferentes de cinco medidas cada una cuando fijamos 200 UM y lo almacenamos en el array de numpy muestras. Como resultado de la celda mostramos las dimensiones del array."
      ]
    },
    {
      "cell_type": "code",
      "execution_count": null,
      "id": "227d3d17-adce-40b3-8423-c00028e8cef0",
      "metadata": {
        "id": "227d3d17-adce-40b3-8423-c00028e8cef0"
      },
      "outputs": [],
      "source": [
        "sample_size=5\n",
        "trial_number=30\n",
        "muestras = scl.lectura_medida_f(UM=UM_nominales, n=sample_size, trials=trial_number)\n",
        "muestras.shape"
      ]
    },
    {
      "cell_type": "markdown",
      "id": "b65d555e-f6d4-44ef-9fd3-242cf10b54bf",
      "metadata": {
        "id": "b65d555e-f6d4-44ef-9fd3-242cf10b54bf"
      },
      "source": [
        "Si queremos mostrar el contenido de muestras ejecutamos esta celda"
      ]
    },
    {
      "cell_type": "code",
      "execution_count": null,
      "id": "7b54d4db-ba63-4c0f-8523-9a61caace881",
      "metadata": {
        "id": "7b54d4db-ba63-4c0f-8523-9a61caace881"
      },
      "outputs": [],
      "source": [
        "muestras"
      ]
    },
    {
      "cell_type": "markdown",
      "id": "d8cb73b2-a944-45a2-8a07-07d6413271d6",
      "metadata": {
        "id": "d8cb73b2-a944-45a2-8a07-07d6413271d6"
      },
      "source": [
        "Podemos calcular estádisticas del total de la muestra"
      ]
    },
    {
      "cell_type": "code",
      "execution_count": null,
      "id": "cfb59ec0-8919-4d2e-963b-6adcd89462f5",
      "metadata": {
        "id": "cfb59ec0-8919-4d2e-963b-6adcd89462f5"
      },
      "outputs": [],
      "source": [
        "muestras.mean(), muestras.std()"
      ]
    },
    {
      "cell_type": "markdown",
      "id": "3094ac21-b26c-47d4-8433-379618f11a95",
      "metadata": {
        "id": "3094ac21-b26c-47d4-8433-379618f11a95"
      },
      "source": [
        "Podemos construir una colección con las medias y desviaciones estándar de cada experimento"
      ]
    },
    {
      "cell_type": "code",
      "execution_count": null,
      "id": "a9f876bb-7cd5-4748-8400-2e20f874e15c",
      "metadata": {
        "id": "a9f876bb-7cd5-4748-8400-2e20f874e15c"
      },
      "outputs": [],
      "source": [
        "muestras_distribucion_medias = muestras.mean(axis=1)\n",
        "muestras_distribucion_sigmas = muestras.std(axis=1, ddof=1)\n",
        "\n",
        "# Mostrar las muestras de ambas ditribuciones\n",
        "muestras_distribucion_medias, muestras_distribucion_sigmas"
      ]
    },
    {
      "cell_type": "markdown",
      "id": "728d1859-84ce-4c8d-8546-09c137d7ed6a",
      "metadata": {
        "id": "728d1859-84ce-4c8d-8546-09c137d7ed6a"
      },
      "source": [
        "## Cuestión\n",
        "6. Mostrar numéricamente que se verifica el teorema del límite central, es decir, que la media de las muestras de la distribución de medias es la misma que la media de todas las medidas y que dentro de incertidumbres muestrales el valor esperado de la sigma de la distribución de medias es la sigma de la distrubución total dividida por la raíz cuadrada del tamaño de la muestra"
      ]
    },
    {
      "cell_type": "markdown",
      "id": "ac701a73-49b5-4632-9f02-6ea4f90bcdbb",
      "metadata": {
        "id": "ac701a73-49b5-4632-9f02-6ea4f90bcdbb"
      },
      "source": [
        "## Cuestiones\n",
        "\n",
        "7. Hacer una gráfica de la razón entre la desviación estándar de la distribución de medias y la sigma de la distrubución total en función del número de experimientos. Discutir si tiene un comportamiento asintótico y en su caso indicar a qué valor tiende.\n",
        "\n",
        "**Sugerencia**: Juntar el código mostrado en las celdas anteriores para definir una función dependiente del número de experimentos que devuelva la razón entre la media de la distrubución de sigmas y la sigma de la distrubución total. Generar un rango de número de experimentos, pasárselo a la función y hacer la gráfica.\n",
        "\n",
        "8. Hacer una gráfica de la razón entre la media de la distrubución de sigmas y la sigma de la distrubución total en función del tamaño de la muestra. Analizar la importancia del parametro `ddof` para evitar el sesgo por el tamaño de la muestra. Ver la documentación de la función [numpy.std](https://numpy.org/doc/stable/reference/generated/numpy.std.html)\n",
        "\n",
        "**Sugerencia**: Juntar el código mostrado en las celdas anteriores para definir una función dependiente del tamaño de la muestra que devuelva la razón pedida."
      ]
    },
    {
      "cell_type": "markdown",
      "id": "fbf1c3a4-034f-445a-9ca0-bb677ebc5ae6",
      "metadata": {
        "id": "fbf1c3a4-034f-445a-9ca0-bb677ebc5ae6"
      },
      "source": [
        "### Cálculo de incertidumbre\n",
        "Una estimación realista de incertidumbres necesita en general incorporar el conocimiento del experimentador sobre la reproducibilidad de sus aparatos de medida. Son lo que se conoce como **incertidumbres de tipo B** que permiten estimar las sigmas de las distribuciones que siguen los elementos que participan en la medida.\n",
        "\n",
        "La propagación de estas incertidumbres se puede hacer mediante aproximaciones analíticas, pero en casos complejos estos cálculos se pueden ver limitados por emplear solo aproximaciones de primer orden y por ignorar las covarianzas entre variables.\n",
        "\n",
        "Una alternativa es emplear técnicas de Monte Carlo. Se pueden muestrear los valores de los elementos que intervienen en la medida si se conocen las distribuciones que siguen y se estiman sus sigmas. Combinando estos valores muestreados mediante la expresión física de la magnitud medida obtenemos una muestra de medidas cuya sigma es la incertidumbre que queremos determinar.\n",
        "\n",
        "## Cuestión.\n",
        "\n",
        "9. Hacer una estimación de incertidumbres mediante técnicas de Monte Carlo\n",
        "\n",
        "**Sugerencia**:  Utilizar las funciones del módulo `simcaliblinac` para hacer experimentos de calibración en los que se obtiene en cada uno de ellos una medida de fugas, una medida de presión y temperatura y la correspondiente muestra de lecturas en el acelerador."
      ]
    },
    {
      "cell_type": "code",
      "execution_count": null,
      "id": "17e4d96b-c06e-49f1-a41d-d698c92a42e0",
      "metadata": {
        "id": "17e4d96b-c06e-49f1-a41d-d698c92a42e0"
      },
      "outputs": [],
      "source": []
    }
  ],
  "metadata": {
    "kernelspec": {
      "display_name": "Python 3 (ipykernel)",
      "language": "python",
      "name": "python3"
    },
    "language_info": {
      "codemirror_mode": {
        "name": "ipython",
        "version": 3
      },
      "file_extension": ".py",
      "mimetype": "text/x-python",
      "name": "python",
      "nbconvert_exporter": "python",
      "pygments_lexer": "ipython3",
      "version": "3.9.7"
    },
    "colab": {
      "provenance": []
    }
  },
  "nbformat": 4,
  "nbformat_minor": 5
}